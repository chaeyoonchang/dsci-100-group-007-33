{
 "cells": [
  {
   "cell_type": "markdown",
   "id": "26329fa9-1753-491a-b235-3572ef3fba29",
   "metadata": {},
   "source": [
    "# Project Proposal Group 33\n",
    "\n"
   ]
  },
  {
   "cell_type": "markdown",
   "id": "3cb5edf4-201a-4d90-85ab-1afbccc0431a",
   "metadata": {},
   "source": [
    "### Predicting a Tennis Player's Best Rank Based on Their Age, Seasons Played, Current Rank, and Prize Money"
   ]
  },
  {
   "cell_type": "markdown",
   "id": "e0a0cadb-beb2-4e75-b068-3ec69b6aa83c",
   "metadata": {},
   "source": [
    "### Introduction\n"
   ]
  },
  {
   "cell_type": "markdown",
   "id": "1291a285-bca9-4cdb-bb87-aeee01d9863e",
   "metadata": {},
   "source": [
    "### Preliminary Data Analysis\n"
   ]
  },
  {
   "cell_type": "code",
   "execution_count": 3,
   "id": "72c1b0a5-7785-4c77-8b45-c6f49c5d5f23",
   "metadata": {
    "tags": []
   },
   "outputs": [
    {
     "name": "stderr",
     "output_type": "stream",
     "text": [
      "── \u001b[1mAttaching packages\u001b[22m ─────────────────────────────────────── tidyverse 1.3.1 ──\n",
      "\n",
      "\u001b[32m✔\u001b[39m \u001b[34mggplot2\u001b[39m 3.3.6     \u001b[32m✔\u001b[39m \u001b[34mpurrr  \u001b[39m 0.3.4\n",
      "\u001b[32m✔\u001b[39m \u001b[34mtibble \u001b[39m 3.1.7     \u001b[32m✔\u001b[39m \u001b[34mdplyr  \u001b[39m 1.0.9\n",
      "\u001b[32m✔\u001b[39m \u001b[34mtidyr  \u001b[39m 1.2.0     \u001b[32m✔\u001b[39m \u001b[34mstringr\u001b[39m 1.4.0\n",
      "\u001b[32m✔\u001b[39m \u001b[34mreadr  \u001b[39m 2.1.2     \u001b[32m✔\u001b[39m \u001b[34mforcats\u001b[39m 0.5.1\n",
      "\n",
      "── \u001b[1mConflicts\u001b[22m ────────────────────────────────────────── tidyverse_conflicts() ──\n",
      "\u001b[31m✖\u001b[39m \u001b[34mdplyr\u001b[39m::\u001b[32mfilter()\u001b[39m masks \u001b[34mstats\u001b[39m::filter()\n",
      "\u001b[31m✖\u001b[39m \u001b[34mdplyr\u001b[39m::\u001b[32mlag()\u001b[39m    masks \u001b[34mstats\u001b[39m::lag()\n",
      "\n",
      "── \u001b[1mAttaching packages\u001b[22m ────────────────────────────────────── tidymodels 1.0.0 ──\n",
      "\n",
      "\u001b[32m✔\u001b[39m \u001b[34mbroom       \u001b[39m 1.0.0     \u001b[32m✔\u001b[39m \u001b[34mrsample     \u001b[39m 1.0.0\n",
      "\u001b[32m✔\u001b[39m \u001b[34mdials       \u001b[39m 1.0.0     \u001b[32m✔\u001b[39m \u001b[34mtune        \u001b[39m 1.0.0\n",
      "\u001b[32m✔\u001b[39m \u001b[34minfer       \u001b[39m 1.0.2     \u001b[32m✔\u001b[39m \u001b[34mworkflows   \u001b[39m 1.0.0\n",
      "\u001b[32m✔\u001b[39m \u001b[34mmodeldata   \u001b[39m 1.0.0     \u001b[32m✔\u001b[39m \u001b[34mworkflowsets\u001b[39m 1.0.0\n",
      "\u001b[32m✔\u001b[39m \u001b[34mparsnip     \u001b[39m 1.0.0     \u001b[32m✔\u001b[39m \u001b[34myardstick   \u001b[39m 1.0.0\n",
      "\u001b[32m✔\u001b[39m \u001b[34mrecipes     \u001b[39m 1.0.1     \n",
      "\n",
      "── \u001b[1mConflicts\u001b[22m ───────────────────────────────────────── tidymodels_conflicts() ──\n",
      "\u001b[31m✖\u001b[39m \u001b[34mscales\u001b[39m::\u001b[32mdiscard()\u001b[39m masks \u001b[34mpurrr\u001b[39m::discard()\n",
      "\u001b[31m✖\u001b[39m \u001b[34mdplyr\u001b[39m::\u001b[32mfilter()\u001b[39m   masks \u001b[34mstats\u001b[39m::filter()\n",
      "\u001b[31m✖\u001b[39m \u001b[34mrecipes\u001b[39m::\u001b[32mfixed()\u001b[39m  masks \u001b[34mstringr\u001b[39m::fixed()\n",
      "\u001b[31m✖\u001b[39m \u001b[34mdplyr\u001b[39m::\u001b[32mlag()\u001b[39m      masks \u001b[34mstats\u001b[39m::lag()\n",
      "\u001b[31m✖\u001b[39m \u001b[34myardstick\u001b[39m::\u001b[32mspec()\u001b[39m masks \u001b[34mreadr\u001b[39m::spec()\n",
      "\u001b[31m✖\u001b[39m \u001b[34mrecipes\u001b[39m::\u001b[32mstep()\u001b[39m   masks \u001b[34mstats\u001b[39m::step()\n",
      "\u001b[34m•\u001b[39m Dig deeper into tidy modeling with R at \u001b[32mhttps://www.tmwr.org\u001b[39m\n",
      "\n"
     ]
    }
   ],
   "source": [
    "library(tidyverse)\n",
    "library(repr)\n",
    "library(tidymodels)"
   ]
  },
  {
   "cell_type": "code",
   "execution_count": 4,
   "id": "881c7351-ae7a-4e3b-afca-d3ffe227d3f3",
   "metadata": {
    "tags": []
   },
   "outputs": [
    {
     "name": "stderr",
     "output_type": "stream",
     "text": [
      "\u001b[1m\u001b[22mNew names:\n",
      "\u001b[36m•\u001b[39m `` -> `...1`\n",
      "\u001b[1mRows: \u001b[22m\u001b[34m500\u001b[39m \u001b[1mColumns: \u001b[22m\u001b[34m38\u001b[39m\n",
      "\u001b[36m──\u001b[39m \u001b[1mColumn specification\u001b[22m \u001b[36m────────────────────────────────────────────────────────\u001b[39m\n",
      "\u001b[1mDelimiter:\u001b[22m \",\"\n",
      "\u001b[31mchr\u001b[39m (25): Age, Country, Plays, Wikipedia, Current Rank, Best Rank, Name, Bac...\n",
      "\u001b[32mdbl\u001b[39m (13): ...1, Turned Pro, Seasons, Titles, Best Season, Retired, Masters, ...\n",
      "\n",
      "\u001b[36mℹ\u001b[39m Use `spec()` to retrieve the full column specification for this data.\n",
      "\u001b[36mℹ\u001b[39m Specify the column types or set `show_col_types = FALSE` to quiet this message.\n"
     ]
    },
    {
     "data": {
      "text/html": [
       "<table class=\"dataframe\">\n",
       "<caption>A tibble: 10 × 38</caption>\n",
       "<thead>\n",
       "\t<tr><th scope=col>...1</th><th scope=col>Age</th><th scope=col>Country</th><th scope=col>Plays</th><th scope=col>Wikipedia</th><th scope=col>Current Rank</th><th scope=col>Best Rank</th><th scope=col>Name</th><th scope=col>Backhand</th><th scope=col>Prize Money</th><th scope=col>⋯</th><th scope=col>Facebook</th><th scope=col>Twitter</th><th scope=col>Nicknames</th><th scope=col>Grand Slams</th><th scope=col>Davis Cups</th><th scope=col>Web Site</th><th scope=col>Team Cups</th><th scope=col>Olympics</th><th scope=col>Weeks at No. 1</th><th scope=col>Tour Finals</th></tr>\n",
       "\t<tr><th scope=col>&lt;dbl&gt;</th><th scope=col>&lt;chr&gt;</th><th scope=col>&lt;chr&gt;</th><th scope=col>&lt;chr&gt;</th><th scope=col>&lt;chr&gt;</th><th scope=col>&lt;chr&gt;</th><th scope=col>&lt;chr&gt;</th><th scope=col>&lt;chr&gt;</th><th scope=col>&lt;chr&gt;</th><th scope=col>&lt;chr&gt;</th><th scope=col>⋯</th><th scope=col>&lt;chr&gt;</th><th scope=col>&lt;chr&gt;</th><th scope=col>&lt;chr&gt;</th><th scope=col>&lt;dbl&gt;</th><th scope=col>&lt;dbl&gt;</th><th scope=col>&lt;chr&gt;</th><th scope=col>&lt;dbl&gt;</th><th scope=col>&lt;dbl&gt;</th><th scope=col>&lt;dbl&gt;</th><th scope=col>&lt;dbl&gt;</th></tr>\n",
       "</thead>\n",
       "<tbody>\n",
       "\t<tr><td>0</td><td>26 (25-04-1993)</td><td>Brazil                   </td><td>Right-handed</td><td>Wikipedia</td><td>378 (97) </td><td>363 (04-11-2019)</td><td>Oscar Jose Gutierrez</td><td>NA        </td><td>NA          </td><td>⋯</td><td>NA</td><td>NA</td><td>NA</td><td>NA</td><td>NA</td><td>NA</td><td>NA</td><td>NA</td><td>NA</td><td>NA</td></tr>\n",
       "\t<tr><td>1</td><td>18 (22-12-2001)</td><td>United Kingdom           </td><td>Left-handed </td><td>Wikipedia</td><td>326 (119)</td><td>316 (14-10-2019)</td><td>Jack Draper         </td><td>Two-handed</td><td>$59,040     </td><td>⋯</td><td>NA</td><td>NA</td><td>NA</td><td>NA</td><td>NA</td><td>NA</td><td>NA</td><td>NA</td><td>NA</td><td>NA</td></tr>\n",
       "\t<tr><td>2</td><td>32 (03-11-1987)</td><td>Slovakia                 </td><td>Right-handed</td><td>Wikipedia</td><td>178 (280)</td><td>44 (14-01-2013) </td><td>Lukas Lacko         </td><td>Two-handed</td><td>US$3,261,567</td><td>⋯</td><td>NA</td><td>NA</td><td>NA</td><td>NA</td><td>NA</td><td>NA</td><td>NA</td><td>NA</td><td>NA</td><td>NA</td></tr>\n",
       "\t<tr><td>3</td><td>21 (29-05-1998)</td><td>Korea, Republic of       </td><td>Right-handed</td><td>Wikipedia</td><td>236 (199)</td><td>130 (10-04-2017)</td><td>Duck Hee Lee        </td><td>Two-handed</td><td>$374,093    </td><td>⋯</td><td>NA</td><td>NA</td><td>NA</td><td>NA</td><td>NA</td><td>NA</td><td>NA</td><td>NA</td><td>NA</td><td>NA</td></tr>\n",
       "\t<tr><td>4</td><td>27 (21-10-1992)</td><td>Australia                </td><td>Right-handed</td><td>Wikipedia</td><td>183 (273)</td><td>17 (11-01-2016) </td><td>Bernard Tomic       </td><td>Two-handed</td><td>US$6,091,971</td><td>⋯</td><td>NA</td><td>NA</td><td>NA</td><td>NA</td><td>NA</td><td>NA</td><td>NA</td><td>NA</td><td>NA</td><td>NA</td></tr>\n",
       "\t<tr><td>5</td><td>22 (11-02-1997)</td><td>Poland                   </td><td>Right-handed</td><td>Wikipedia</td><td>31 (1398)</td><td>31 (20-01-2020) </td><td>Hubert Hurkacz      </td><td>Two-handed</td><td>$1,517,157  </td><td>⋯</td><td>NA</td><td>NA</td><td>NA</td><td>NA</td><td>NA</td><td>NA</td><td>NA</td><td>NA</td><td>NA</td><td>NA</td></tr>\n",
       "\t<tr><td>6</td><td>28 (18-11-1991)</td><td>United States            </td><td>Right-handed</td><td>Wikipedia</td><td>307 (131)</td><td>213 (31-10-2016)</td><td>Sekou Bangoura      </td><td>Two-handed</td><td>$278,709    </td><td>⋯</td><td>NA</td><td>NA</td><td>NA</td><td>NA</td><td>NA</td><td>NA</td><td>NA</td><td>NA</td><td>NA</td><td>NA</td></tr>\n",
       "\t<tr><td>7</td><td>21 (12-05-1998)</td><td>Taiwan, Province of China</td><td>Right-handed</td><td>Wikipedia</td><td>232 (205)</td><td>229 (04-11-2019)</td><td>Tung Lin Wu         </td><td>Two-handed</td><td>$59,123     </td><td>⋯</td><td>NA</td><td>NA</td><td>NA</td><td>NA</td><td>NA</td><td>NA</td><td>NA</td><td>NA</td><td>NA</td><td>NA</td></tr>\n",
       "\t<tr><td>8</td><td>25 (29-07-1994)</td><td>Uzbekistan               </td><td>Right-handed</td><td>Wikipedia</td><td>417 (81) </td><td>253 (17-07-2017)</td><td>Sanjar Fayziev      </td><td>Two-handed</td><td>$122,734    </td><td>⋯</td><td>NA</td><td>NA</td><td>NA</td><td>NA</td><td>NA</td><td>NA</td><td>NA</td><td>NA</td><td>NA</td><td>NA</td></tr>\n",
       "\t<tr><td>9</td><td>20 (02-04-1999)</td><td>Finland                  </td><td>Right-handed</td><td>Wikipedia</td><td>104 (534)</td><td>104 (13-01-2020)</td><td>Emil Ruusuvuori     </td><td>Two-handed</td><td>US$74,927   </td><td>⋯</td><td>NA</td><td>NA</td><td>NA</td><td>NA</td><td>NA</td><td>NA</td><td>NA</td><td>NA</td><td>NA</td><td>NA</td></tr>\n",
       "</tbody>\n",
       "</table>\n"
      ],
      "text/latex": [
       "A tibble: 10 × 38\n",
       "\\begin{tabular}{lllllllllllllllllllll}\n",
       " ...1 & Age & Country & Plays & Wikipedia & Current Rank & Best Rank & Name & Backhand & Prize Money & ⋯ & Facebook & Twitter & Nicknames & Grand Slams & Davis Cups & Web Site & Team Cups & Olympics & Weeks at No. 1 & Tour Finals\\\\\n",
       " <dbl> & <chr> & <chr> & <chr> & <chr> & <chr> & <chr> & <chr> & <chr> & <chr> & ⋯ & <chr> & <chr> & <chr> & <dbl> & <dbl> & <chr> & <dbl> & <dbl> & <dbl> & <dbl>\\\\\n",
       "\\hline\n",
       "\t 0 & 26 (25-04-1993) & Brazil                    & Right-handed & Wikipedia & 378 (97)  & 363 (04-11-2019) & Oscar Jose Gutierrez & NA         & NA           & ⋯ & NA & NA & NA & NA & NA & NA & NA & NA & NA & NA\\\\\n",
       "\t 1 & 18 (22-12-2001) & United Kingdom            & Left-handed  & Wikipedia & 326 (119) & 316 (14-10-2019) & Jack Draper          & Two-handed & \\$59,040      & ⋯ & NA & NA & NA & NA & NA & NA & NA & NA & NA & NA\\\\\n",
       "\t 2 & 32 (03-11-1987) & Slovakia                  & Right-handed & Wikipedia & 178 (280) & 44 (14-01-2013)  & Lukas Lacko          & Two-handed & US\\$3,261,567 & ⋯ & NA & NA & NA & NA & NA & NA & NA & NA & NA & NA\\\\\n",
       "\t 3 & 21 (29-05-1998) & Korea, Republic of        & Right-handed & Wikipedia & 236 (199) & 130 (10-04-2017) & Duck Hee Lee         & Two-handed & \\$374,093     & ⋯ & NA & NA & NA & NA & NA & NA & NA & NA & NA & NA\\\\\n",
       "\t 4 & 27 (21-10-1992) & Australia                 & Right-handed & Wikipedia & 183 (273) & 17 (11-01-2016)  & Bernard Tomic        & Two-handed & US\\$6,091,971 & ⋯ & NA & NA & NA & NA & NA & NA & NA & NA & NA & NA\\\\\n",
       "\t 5 & 22 (11-02-1997) & Poland                    & Right-handed & Wikipedia & 31 (1398) & 31 (20-01-2020)  & Hubert Hurkacz       & Two-handed & \\$1,517,157   & ⋯ & NA & NA & NA & NA & NA & NA & NA & NA & NA & NA\\\\\n",
       "\t 6 & 28 (18-11-1991) & United States             & Right-handed & Wikipedia & 307 (131) & 213 (31-10-2016) & Sekou Bangoura       & Two-handed & \\$278,709     & ⋯ & NA & NA & NA & NA & NA & NA & NA & NA & NA & NA\\\\\n",
       "\t 7 & 21 (12-05-1998) & Taiwan, Province of China & Right-handed & Wikipedia & 232 (205) & 229 (04-11-2019) & Tung Lin Wu          & Two-handed & \\$59,123      & ⋯ & NA & NA & NA & NA & NA & NA & NA & NA & NA & NA\\\\\n",
       "\t 8 & 25 (29-07-1994) & Uzbekistan                & Right-handed & Wikipedia & 417 (81)  & 253 (17-07-2017) & Sanjar Fayziev       & Two-handed & \\$122,734     & ⋯ & NA & NA & NA & NA & NA & NA & NA & NA & NA & NA\\\\\n",
       "\t 9 & 20 (02-04-1999) & Finland                   & Right-handed & Wikipedia & 104 (534) & 104 (13-01-2020) & Emil Ruusuvuori      & Two-handed & US\\$74,927    & ⋯ & NA & NA & NA & NA & NA & NA & NA & NA & NA & NA\\\\\n",
       "\\end{tabular}\n"
      ],
      "text/markdown": [
       "\n",
       "A tibble: 10 × 38\n",
       "\n",
       "| ...1 &lt;dbl&gt; | Age &lt;chr&gt; | Country &lt;chr&gt; | Plays &lt;chr&gt; | Wikipedia &lt;chr&gt; | Current Rank &lt;chr&gt; | Best Rank &lt;chr&gt; | Name &lt;chr&gt; | Backhand &lt;chr&gt; | Prize Money &lt;chr&gt; | ⋯ ⋯ | Facebook &lt;chr&gt; | Twitter &lt;chr&gt; | Nicknames &lt;chr&gt; | Grand Slams &lt;dbl&gt; | Davis Cups &lt;dbl&gt; | Web Site &lt;chr&gt; | Team Cups &lt;dbl&gt; | Olympics &lt;dbl&gt; | Weeks at No. 1 &lt;dbl&gt; | Tour Finals &lt;dbl&gt; |\n",
       "|---|---|---|---|---|---|---|---|---|---|---|---|---|---|---|---|---|---|---|---|---|\n",
       "| 0 | 26 (25-04-1993) | Brazil                    | Right-handed | Wikipedia | 378 (97)  | 363 (04-11-2019) | Oscar Jose Gutierrez | NA         | NA           | ⋯ | NA | NA | NA | NA | NA | NA | NA | NA | NA | NA |\n",
       "| 1 | 18 (22-12-2001) | United Kingdom            | Left-handed  | Wikipedia | 326 (119) | 316 (14-10-2019) | Jack Draper          | Two-handed | $59,040      | ⋯ | NA | NA | NA | NA | NA | NA | NA | NA | NA | NA |\n",
       "| 2 | 32 (03-11-1987) | Slovakia                  | Right-handed | Wikipedia | 178 (280) | 44 (14-01-2013)  | Lukas Lacko          | Two-handed | US$3,261,567 | ⋯ | NA | NA | NA | NA | NA | NA | NA | NA | NA | NA |\n",
       "| 3 | 21 (29-05-1998) | Korea, Republic of        | Right-handed | Wikipedia | 236 (199) | 130 (10-04-2017) | Duck Hee Lee         | Two-handed | $374,093     | ⋯ | NA | NA | NA | NA | NA | NA | NA | NA | NA | NA |\n",
       "| 4 | 27 (21-10-1992) | Australia                 | Right-handed | Wikipedia | 183 (273) | 17 (11-01-2016)  | Bernard Tomic        | Two-handed | US$6,091,971 | ⋯ | NA | NA | NA | NA | NA | NA | NA | NA | NA | NA |\n",
       "| 5 | 22 (11-02-1997) | Poland                    | Right-handed | Wikipedia | 31 (1398) | 31 (20-01-2020)  | Hubert Hurkacz       | Two-handed | $1,517,157   | ⋯ | NA | NA | NA | NA | NA | NA | NA | NA | NA | NA |\n",
       "| 6 | 28 (18-11-1991) | United States             | Right-handed | Wikipedia | 307 (131) | 213 (31-10-2016) | Sekou Bangoura       | Two-handed | $278,709     | ⋯ | NA | NA | NA | NA | NA | NA | NA | NA | NA | NA |\n",
       "| 7 | 21 (12-05-1998) | Taiwan, Province of China | Right-handed | Wikipedia | 232 (205) | 229 (04-11-2019) | Tung Lin Wu          | Two-handed | $59,123      | ⋯ | NA | NA | NA | NA | NA | NA | NA | NA | NA | NA |\n",
       "| 8 | 25 (29-07-1994) | Uzbekistan                | Right-handed | Wikipedia | 417 (81)  | 253 (17-07-2017) | Sanjar Fayziev       | Two-handed | $122,734     | ⋯ | NA | NA | NA | NA | NA | NA | NA | NA | NA | NA |\n",
       "| 9 | 20 (02-04-1999) | Finland                   | Right-handed | Wikipedia | 104 (534) | 104 (13-01-2020) | Emil Ruusuvuori      | Two-handed | US$74,927    | ⋯ | NA | NA | NA | NA | NA | NA | NA | NA | NA | NA |\n",
       "\n"
      ],
      "text/plain": [
       "   ...1 Age             Country                   Plays        Wikipedia\n",
       "1  0    26 (25-04-1993) Brazil                    Right-handed Wikipedia\n",
       "2  1    18 (22-12-2001) United Kingdom            Left-handed  Wikipedia\n",
       "3  2    32 (03-11-1987) Slovakia                  Right-handed Wikipedia\n",
       "4  3    21 (29-05-1998) Korea, Republic of        Right-handed Wikipedia\n",
       "5  4    27 (21-10-1992) Australia                 Right-handed Wikipedia\n",
       "6  5    22 (11-02-1997) Poland                    Right-handed Wikipedia\n",
       "7  6    28 (18-11-1991) United States             Right-handed Wikipedia\n",
       "8  7    21 (12-05-1998) Taiwan, Province of China Right-handed Wikipedia\n",
       "9  8    25 (29-07-1994) Uzbekistan                Right-handed Wikipedia\n",
       "10 9    20 (02-04-1999) Finland                   Right-handed Wikipedia\n",
       "   Current Rank Best Rank        Name                 Backhand   Prize Money  ⋯\n",
       "1  378 (97)     363 (04-11-2019) Oscar Jose Gutierrez NA         NA           ⋯\n",
       "2  326 (119)    316 (14-10-2019) Jack Draper          Two-handed $59,040      ⋯\n",
       "3  178 (280)    44 (14-01-2013)  Lukas Lacko          Two-handed US$3,261,567 ⋯\n",
       "4  236 (199)    130 (10-04-2017) Duck Hee Lee         Two-handed $374,093     ⋯\n",
       "5  183 (273)    17 (11-01-2016)  Bernard Tomic        Two-handed US$6,091,971 ⋯\n",
       "6  31 (1398)    31 (20-01-2020)  Hubert Hurkacz       Two-handed $1,517,157   ⋯\n",
       "7  307 (131)    213 (31-10-2016) Sekou Bangoura       Two-handed $278,709     ⋯\n",
       "8  232 (205)    229 (04-11-2019) Tung Lin Wu          Two-handed $59,123      ⋯\n",
       "9  417 (81)     253 (17-07-2017) Sanjar Fayziev       Two-handed $122,734     ⋯\n",
       "10 104 (534)    104 (13-01-2020) Emil Ruusuvuori      Two-handed US$74,927    ⋯\n",
       "   Facebook Twitter Nicknames Grand Slams Davis Cups Web Site Team Cups\n",
       "1  NA       NA      NA        NA          NA         NA       NA       \n",
       "2  NA       NA      NA        NA          NA         NA       NA       \n",
       "3  NA       NA      NA        NA          NA         NA       NA       \n",
       "4  NA       NA      NA        NA          NA         NA       NA       \n",
       "5  NA       NA      NA        NA          NA         NA       NA       \n",
       "6  NA       NA      NA        NA          NA         NA       NA       \n",
       "7  NA       NA      NA        NA          NA         NA       NA       \n",
       "8  NA       NA      NA        NA          NA         NA       NA       \n",
       "9  NA       NA      NA        NA          NA         NA       NA       \n",
       "10 NA       NA      NA        NA          NA         NA       NA       \n",
       "   Olympics Weeks at No. 1 Tour Finals\n",
       "1  NA       NA             NA         \n",
       "2  NA       NA             NA         \n",
       "3  NA       NA             NA         \n",
       "4  NA       NA             NA         \n",
       "5  NA       NA             NA         \n",
       "6  NA       NA             NA         \n",
       "7  NA       NA             NA         \n",
       "8  NA       NA             NA         \n",
       "9  NA       NA             NA         \n",
       "10 NA       NA             NA         "
      ]
     },
     "metadata": {},
     "output_type": "display_data"
    }
   ],
   "source": [
    "url <- \"https://drive.google.com/uc?export=download&id=1_MECmUXZuuILYeEOfonSGqodW6qVdhsS\"\n",
    "tennis_data <- read_csv(url)\n",
    "head(tennis_data, n=10)"
   ]
  },
  {
   "cell_type": "markdown",
   "id": "ff6b26d0-d015-483f-9496-3fe7d84b1cea",
   "metadata": {},
   "source": [
    "For our project we chose the columns Age, Best Rank, Prize Money, Current Rank, and Seasons. We are trying to predict the Best Rank using the other 4 variables. These predictors were selected because they contain the most data compared to other columns which mostly contain N/As. The choice of predictors was also based on their relevance to predicting a player's Best Rank. Variables such as Age, Best Rank, Prize Money, Current Rank, and Seasons were selected as they have a direct or indirect impact on a player's performance and ranking. Other variables such as Nicknames or Web Site were deemed irrelevant as they are not likely to have a significant influence on a player's ranking.\n",
    "\n",
    "We also isolated the variables we wanted to use, deleted empty observations, and removed unnecessary characters. "
   ]
  },
  {
   "cell_type": "code",
   "execution_count": 5,
   "id": "972aa84a-18f6-47ef-a376-d39d6de4019d",
   "metadata": {},
   "outputs": [
    {
     "data": {
      "text/html": [
       "<table class=\"dataframe\">\n",
       "<caption>A tibble: 10 × 5</caption>\n",
       "<thead>\n",
       "\t<tr><th scope=col>Age</th><th scope=col>best_rank</th><th scope=col>current_rank</th><th scope=col>Prize.Money</th><th scope=col>Seasons</th></tr>\n",
       "\t<tr><th scope=col>&lt;int&gt;</th><th scope=col>&lt;int&gt;</th><th scope=col>&lt;int&gt;</th><th scope=col>&lt;chr&gt;</th><th scope=col>&lt;dbl&gt;</th></tr>\n",
       "</thead>\n",
       "<tbody>\n",
       "\t<tr><td>26</td><td>363</td><td>378</td><td>NA          </td><td>NA</td></tr>\n",
       "\t<tr><td>18</td><td>316</td><td>326</td><td>$59,040     </td><td>NA</td></tr>\n",
       "\t<tr><td>32</td><td> 44</td><td>178</td><td>US$3,261,567</td><td>14</td></tr>\n",
       "\t<tr><td>21</td><td>130</td><td>236</td><td>$374,093    </td><td> 2</td></tr>\n",
       "\t<tr><td>27</td><td> 17</td><td>183</td><td>US$6,091,971</td><td>11</td></tr>\n",
       "\t<tr><td>22</td><td> 31</td><td> 31</td><td>$1,517,157  </td><td> 5</td></tr>\n",
       "\t<tr><td>28</td><td>213</td><td>307</td><td>$278,709    </td><td> 1</td></tr>\n",
       "\t<tr><td>21</td><td>229</td><td>232</td><td>$59,123     </td><td> 1</td></tr>\n",
       "\t<tr><td>25</td><td>253</td><td>417</td><td>$122,734    </td><td> 5</td></tr>\n",
       "\t<tr><td>20</td><td>104</td><td>104</td><td>US$74,927   </td><td> 3</td></tr>\n",
       "</tbody>\n",
       "</table>\n"
      ],
      "text/latex": [
       "A tibble: 10 × 5\n",
       "\\begin{tabular}{lllll}\n",
       " Age & best\\_rank & current\\_rank & Prize.Money & Seasons\\\\\n",
       " <int> & <int> & <int> & <chr> & <dbl>\\\\\n",
       "\\hline\n",
       "\t 26 & 363 & 378 & NA           & NA\\\\\n",
       "\t 18 & 316 & 326 & \\$59,040      & NA\\\\\n",
       "\t 32 &  44 & 178 & US\\$3,261,567 & 14\\\\\n",
       "\t 21 & 130 & 236 & \\$374,093     &  2\\\\\n",
       "\t 27 &  17 & 183 & US\\$6,091,971 & 11\\\\\n",
       "\t 22 &  31 &  31 & \\$1,517,157   &  5\\\\\n",
       "\t 28 & 213 & 307 & \\$278,709     &  1\\\\\n",
       "\t 21 & 229 & 232 & \\$59,123      &  1\\\\\n",
       "\t 25 & 253 & 417 & \\$122,734     &  5\\\\\n",
       "\t 20 & 104 & 104 & US\\$74,927    &  3\\\\\n",
       "\\end{tabular}\n"
      ],
      "text/markdown": [
       "\n",
       "A tibble: 10 × 5\n",
       "\n",
       "| Age &lt;int&gt; | best_rank &lt;int&gt; | current_rank &lt;int&gt; | Prize.Money &lt;chr&gt; | Seasons &lt;dbl&gt; |\n",
       "|---|---|---|---|---|\n",
       "| 26 | 363 | 378 | NA           | NA |\n",
       "| 18 | 316 | 326 | $59,040      | NA |\n",
       "| 32 |  44 | 178 | US$3,261,567 | 14 |\n",
       "| 21 | 130 | 236 | $374,093     |  2 |\n",
       "| 27 |  17 | 183 | US$6,091,971 | 11 |\n",
       "| 22 |  31 |  31 | $1,517,157   |  5 |\n",
       "| 28 | 213 | 307 | $278,709     |  1 |\n",
       "| 21 | 229 | 232 | $59,123      |  1 |\n",
       "| 25 | 253 | 417 | $122,734     |  5 |\n",
       "| 20 | 104 | 104 | US$74,927    |  3 |\n",
       "\n"
      ],
      "text/plain": [
       "   Age best_rank current_rank Prize.Money  Seasons\n",
       "1  26  363       378          NA           NA     \n",
       "2  18  316       326          $59,040      NA     \n",
       "3  32   44       178          US$3,261,567 14     \n",
       "4  21  130       236          $374,093      2     \n",
       "5  27   17       183          US$6,091,971 11     \n",
       "6  22   31        31          $1,517,157    5     \n",
       "7  28  213       307          $278,709      1     \n",
       "8  21  229       232          $59,123       1     \n",
       "9  25  253       417          $122,734      5     \n",
       "10 20  104       104          US$74,927     3     "
      ]
     },
     "metadata": {},
     "output_type": "display_data"
    }
   ],
   "source": [
    "colnames(tennis_data) <- make.names(colnames(tennis_data))\n",
    "tennis_data_separated <- tennis_data |> select(Age, Best.Rank, Prize.Money, Seasons, Current.Rank) |>\n",
    "                separate(col = Age,\n",
    "                        into = c(\"Age\", \"date\"),\n",
    "                        sep=\" \",\n",
    "                        convert=TRUE) |>\n",
    "                separate(col = Best.Rank,\n",
    "                        into = c(\"best_rank\", \"date_rank\"),\n",
    "                        sep=\" \",\n",
    "                        convert=TRUE) |>\n",
    "\n",
    "                separate(col = Current.Rank,\n",
    "                        into = c(\"current_rank\", \"date_cur_rank\"),\n",
    "                        sep=\" \",\n",
    "                        convert=TRUE) |>\n",
    "    select(Age, best_rank, current_rank, Prize.Money, Seasons)\n",
    "\n",
    "head(tennis_data_separated, n = 10)"
   ]
  },
  {
   "cell_type": "code",
   "execution_count": 6,
   "id": "d14f401a-d0e8-49d9-8bf0-cf87d24c3554",
   "metadata": {},
   "outputs": [
    {
     "data": {
      "text/html": [
       "<table class=\"dataframe\">\n",
       "<caption>A tibble: 10 × 5</caption>\n",
       "<thead>\n",
       "\t<tr><th scope=col>Age</th><th scope=col>Best_Rank</th><th scope=col>Current_Rank</th><th scope=col>Prize.Money</th><th scope=col>Seasons</th></tr>\n",
       "\t<tr><th scope=col>&lt;int&gt;</th><th scope=col>&lt;int&gt;</th><th scope=col>&lt;int&gt;</th><th scope=col>&lt;chr&gt;</th><th scope=col>&lt;dbl&gt;</th></tr>\n",
       "</thead>\n",
       "<tbody>\n",
       "\t<tr><td>26</td><td>363</td><td>378</td><td>NA     </td><td>NA</td></tr>\n",
       "\t<tr><td>18</td><td>316</td><td>326</td><td>59040  </td><td>NA</td></tr>\n",
       "\t<tr><td>32</td><td> 44</td><td>178</td><td>3261567</td><td>14</td></tr>\n",
       "\t<tr><td>21</td><td>130</td><td>236</td><td>374093 </td><td> 2</td></tr>\n",
       "\t<tr><td>27</td><td> 17</td><td>183</td><td>6091971</td><td>11</td></tr>\n",
       "\t<tr><td>22</td><td> 31</td><td> 31</td><td>1517157</td><td> 5</td></tr>\n",
       "\t<tr><td>28</td><td>213</td><td>307</td><td>278709 </td><td> 1</td></tr>\n",
       "\t<tr><td>21</td><td>229</td><td>232</td><td>59123  </td><td> 1</td></tr>\n",
       "\t<tr><td>25</td><td>253</td><td>417</td><td>122734 </td><td> 5</td></tr>\n",
       "\t<tr><td>20</td><td>104</td><td>104</td><td>74927  </td><td> 3</td></tr>\n",
       "</tbody>\n",
       "</table>\n"
      ],
      "text/latex": [
       "A tibble: 10 × 5\n",
       "\\begin{tabular}{lllll}\n",
       " Age & Best\\_Rank & Current\\_Rank & Prize.Money & Seasons\\\\\n",
       " <int> & <int> & <int> & <chr> & <dbl>\\\\\n",
       "\\hline\n",
       "\t 26 & 363 & 378 & NA      & NA\\\\\n",
       "\t 18 & 316 & 326 & 59040   & NA\\\\\n",
       "\t 32 &  44 & 178 & 3261567 & 14\\\\\n",
       "\t 21 & 130 & 236 & 374093  &  2\\\\\n",
       "\t 27 &  17 & 183 & 6091971 & 11\\\\\n",
       "\t 22 &  31 &  31 & 1517157 &  5\\\\\n",
       "\t 28 & 213 & 307 & 278709  &  1\\\\\n",
       "\t 21 & 229 & 232 & 59123   &  1\\\\\n",
       "\t 25 & 253 & 417 & 122734  &  5\\\\\n",
       "\t 20 & 104 & 104 & 74927   &  3\\\\\n",
       "\\end{tabular}\n"
      ],
      "text/markdown": [
       "\n",
       "A tibble: 10 × 5\n",
       "\n",
       "| Age &lt;int&gt; | Best_Rank &lt;int&gt; | Current_Rank &lt;int&gt; | Prize.Money &lt;chr&gt; | Seasons &lt;dbl&gt; |\n",
       "|---|---|---|---|---|\n",
       "| 26 | 363 | 378 | NA      | NA |\n",
       "| 18 | 316 | 326 | 59040   | NA |\n",
       "| 32 |  44 | 178 | 3261567 | 14 |\n",
       "| 21 | 130 | 236 | 374093  |  2 |\n",
       "| 27 |  17 | 183 | 6091971 | 11 |\n",
       "| 22 |  31 |  31 | 1517157 |  5 |\n",
       "| 28 | 213 | 307 | 278709  |  1 |\n",
       "| 21 | 229 | 232 | 59123   |  1 |\n",
       "| 25 | 253 | 417 | 122734  |  5 |\n",
       "| 20 | 104 | 104 | 74927   |  3 |\n",
       "\n"
      ],
      "text/plain": [
       "   Age Best_Rank Current_Rank Prize.Money Seasons\n",
       "1  26  363       378          NA          NA     \n",
       "2  18  316       326          59040       NA     \n",
       "3  32   44       178          3261567     14     \n",
       "4  21  130       236          374093       2     \n",
       "5  27   17       183          6091971     11     \n",
       "6  22   31        31          1517157      5     \n",
       "7  28  213       307          278709       1     \n",
       "8  21  229       232          59123        1     \n",
       "9  25  253       417          122734       5     \n",
       "10 20  104       104          74927        3     "
      ]
     },
     "metadata": {},
     "output_type": "display_data"
    }
   ],
   "source": [
    "tennis_data_separated$Prize.Money <- gsub(\"US\", \" \", tennis_data_separated$Prize.Money)\n",
    "\n",
    "\n",
    "tennis_data_separated$Prize.Money <- gsub(\"US\", \"\", tennis_data_separated$Prize.Money)\n",
    "tennis_data_separated$Prize.Money <- gsub(\"all-time leader in earnings\", \"\", tennis_data_separated$Prize.Money)\n",
    "tennis_data_separated$Prize.Money <- gsub(\"11th\", \"\", tennis_data_separated$Prize.Money)\n",
    "tennis_data_separated$Prize.Money <- gsub(\"24th\", \"\", tennis_data_separated$Prize.Money)\n",
    "tennis_data_separated$Prize.Money <- gsub(\"10th\", \"\", tennis_data_separated$Prize.Money)\n",
    "tennis_data_separated$Prize.Money <- sub(\"14th\", \"\", tennis_data_separated$Prize.Money)\n",
    "tennis_data_separated$Prize.Money <- sub(\"27th\", \"\", tennis_data_separated$Prize.Money)\n",
    "tennis_data_separated$Prize.Money <- sub(\"15th\", \"\", tennis_data_separated$Prize.Money)\n",
    "tennis_data_separated$Prize.Money <- sub(\"30th\", \"\", tennis_data_separated$Prize.Money)\n",
    "tennis_data_separated$Prize.Money <- sub(\"All-time leader in earnings\", \"\", tennis_data_separated$Prize.Money)\n",
    "tennis_data_separated$Prize.Money <- sub(\"4th\", \"\", tennis_data_separated$Prize.Money)\n",
    "tennis_data_separated$Prize.Money <- sub(\"28th\", \"\", tennis_data_separated$Prize.Money)\n",
    "tennis_data_separated$Prize.Money <- sub(\"2nd\", \"\", tennis_data_separated$Prize.Money)\n",
    "tennis_data_separated$Prize.Money <- sub(\"6th\", \"\", tennis_data_separated$Prize.Money)\n",
    "tennis_data_separated$Prize.Money <- sub(\"33rd\", \"\", tennis_data_separated$Prize.Money)\n",
    "tennis_data_separated$Prize.Money <- sub(\"26th\", \"\", tennis_data_separated$Prize.Money)\n",
    "tennis_data_separated$Prize.Money <- sub(\"24th\", \"\", tennis_data_separated$Prize.Money)\n",
    "tennis_data_separated$Prize.Money <- sub(\"48th\", \"\", tennis_data_separated$Prize.Money)\n",
    "tennis_data_separated$Prize.Money <- sub(\"41st\", \"\", tennis_data_separated$Prize.Money)\n",
    "tennis_data_separated$Prize.Money <- sub(\"\\\\$\",\"\", tennis_data_separated$Prize.Money)\n",
    "tennis_data_separated$Prize.Money <- sub(\" \", \"\", tennis_data_separated$Prize.Money)\n",
    "tennis_data_separated$Prize.Money <- sub(\"   \", \"\", tennis_data_separated$Prize.Money)\n",
    "tennis_data_separated$Prize.Money <- sub(\"  \", \"\", tennis_data_separated$Prize.Money)\n",
    "tennis_data_separated$Prize.Money <- sub(\" all-time in earnings\", \"\", tennis_data_separated$Prize.Money)\n",
    "tennis_data_separated$Prize.Money <- gsub(\",\", \"\", tennis_data_separated$Prize.Money)\n",
    "\n",
    "tennis_data_renamed <- tennis_data_separated |>\n",
    "    rename(\"Best_Rank\" = \"best_rank\") |>\n",
    "    rename(\"Current_Rank\" = \"current_rank\")\n",
    "head(tennis_data_renamed, n = 10)"
   ]
  },
  {
   "cell_type": "markdown",
   "id": "f54018b3-0258-48c9-9cf2-839b200bbf95",
   "metadata": {},
   "source": [
    "We also converted the Prize Money column from character into double."
   ]
  },
  {
   "cell_type": "code",
   "execution_count": 7,
   "id": "cae8cb8f-b0f1-40e2-9efe-2da3707cbf9c",
   "metadata": {},
   "outputs": [
    {
     "name": "stderr",
     "output_type": "stream",
     "text": [
      "Warning message in mask$eval_all_mutate(quo):\n",
      "“NAs introduced by coercion”\n"
     ]
    },
    {
     "data": {
      "text/html": [
       "<table class=\"dataframe\">\n",
       "<caption>A tibble: 10 × 5</caption>\n",
       "<thead>\n",
       "\t<tr><th scope=col>Age</th><th scope=col>Best_Rank</th><th scope=col>Current_Rank</th><th scope=col>Prize_Money</th><th scope=col>Seasons</th></tr>\n",
       "\t<tr><th scope=col>&lt;int&gt;</th><th scope=col>&lt;int&gt;</th><th scope=col>&lt;int&gt;</th><th scope=col>&lt;dbl&gt;</th><th scope=col>&lt;dbl&gt;</th></tr>\n",
       "</thead>\n",
       "<tbody>\n",
       "\t<tr><td>32</td><td> 44</td><td>178</td><td> 3261567</td><td>14</td></tr>\n",
       "\t<tr><td>21</td><td>130</td><td>236</td><td>  374093</td><td> 2</td></tr>\n",
       "\t<tr><td>27</td><td> 17</td><td>183</td><td> 6091971</td><td>11</td></tr>\n",
       "\t<tr><td>22</td><td> 31</td><td> 31</td><td> 1517157</td><td> 5</td></tr>\n",
       "\t<tr><td>28</td><td>213</td><td>307</td><td>  278709</td><td> 1</td></tr>\n",
       "\t<tr><td>21</td><td>229</td><td>232</td><td>   59123</td><td> 1</td></tr>\n",
       "\t<tr><td>25</td><td>253</td><td>417</td><td>  122734</td><td> 5</td></tr>\n",
       "\t<tr><td>20</td><td>104</td><td>104</td><td>   74927</td><td> 3</td></tr>\n",
       "\t<tr><td>19</td><td> 17</td><td> 22</td><td> 1893476</td><td> 3</td></tr>\n",
       "\t<tr><td>23</td><td>  4</td><td>  4</td><td>10507693</td><td> 5</td></tr>\n",
       "</tbody>\n",
       "</table>\n"
      ],
      "text/latex": [
       "A tibble: 10 × 5\n",
       "\\begin{tabular}{lllll}\n",
       " Age & Best\\_Rank & Current\\_Rank & Prize\\_Money & Seasons\\\\\n",
       " <int> & <int> & <int> & <dbl> & <dbl>\\\\\n",
       "\\hline\n",
       "\t 32 &  44 & 178 &  3261567 & 14\\\\\n",
       "\t 21 & 130 & 236 &   374093 &  2\\\\\n",
       "\t 27 &  17 & 183 &  6091971 & 11\\\\\n",
       "\t 22 &  31 &  31 &  1517157 &  5\\\\\n",
       "\t 28 & 213 & 307 &   278709 &  1\\\\\n",
       "\t 21 & 229 & 232 &    59123 &  1\\\\\n",
       "\t 25 & 253 & 417 &   122734 &  5\\\\\n",
       "\t 20 & 104 & 104 &    74927 &  3\\\\\n",
       "\t 19 &  17 &  22 &  1893476 &  3\\\\\n",
       "\t 23 &   4 &   4 & 10507693 &  5\\\\\n",
       "\\end{tabular}\n"
      ],
      "text/markdown": [
       "\n",
       "A tibble: 10 × 5\n",
       "\n",
       "| Age &lt;int&gt; | Best_Rank &lt;int&gt; | Current_Rank &lt;int&gt; | Prize_Money &lt;dbl&gt; | Seasons &lt;dbl&gt; |\n",
       "|---|---|---|---|---|\n",
       "| 32 |  44 | 178 |  3261567 | 14 |\n",
       "| 21 | 130 | 236 |   374093 |  2 |\n",
       "| 27 |  17 | 183 |  6091971 | 11 |\n",
       "| 22 |  31 |  31 |  1517157 |  5 |\n",
       "| 28 | 213 | 307 |   278709 |  1 |\n",
       "| 21 | 229 | 232 |    59123 |  1 |\n",
       "| 25 | 253 | 417 |   122734 |  5 |\n",
       "| 20 | 104 | 104 |    74927 |  3 |\n",
       "| 19 |  17 |  22 |  1893476 |  3 |\n",
       "| 23 |   4 |   4 | 10507693 |  5 |\n",
       "\n"
      ],
      "text/plain": [
       "   Age Best_Rank Current_Rank Prize_Money Seasons\n",
       "1  32   44       178           3261567    14     \n",
       "2  21  130       236            374093     2     \n",
       "3  27   17       183           6091971    11     \n",
       "4  22   31        31           1517157     5     \n",
       "5  28  213       307            278709     1     \n",
       "6  21  229       232             59123     1     \n",
       "7  25  253       417            122734     5     \n",
       "8  20  104       104             74927     3     \n",
       "9  19   17        22           1893476     3     \n",
       "10 23    4         4          10507693     5     "
      ]
     },
     "metadata": {},
     "output_type": "display_data"
    }
   ],
   "source": [
    "tennis_data_mutated <- tennis_data_renamed |>\n",
    "    mutate(Prize_Money = as.numeric(Prize.Money)) |>\n",
    "    na.omit() |>\n",
    "    select(Age, Best_Rank, Current_Rank, Prize_Money, Seasons)\n",
    "\n",
    "head(tennis_data_mutated, n = 10)"
   ]
  },
  {
   "cell_type": "markdown",
   "id": "6196e0dd-4f40-4525-bfc9-598e279f88a7",
   "metadata": {},
   "source": [
    "We divided the data into a 75% training and 25% testing."
   ]
  },
  {
   "cell_type": "code",
   "execution_count": 8,
   "id": "349ee8f6-0261-4392-8e80-5a99ed77883a",
   "metadata": {},
   "outputs": [
    {
     "data": {
      "text/html": [
       "<table class=\"dataframe\">\n",
       "<caption>A tibble: 10 × 5</caption>\n",
       "<thead>\n",
       "\t<tr><th scope=col>Age</th><th scope=col>Best_Rank</th><th scope=col>Current_Rank</th><th scope=col>Prize_Money</th><th scope=col>Seasons</th></tr>\n",
       "\t<tr><th scope=col>&lt;int&gt;</th><th scope=col>&lt;int&gt;</th><th scope=col>&lt;int&gt;</th><th scope=col>&lt;dbl&gt;</th><th scope=col>&lt;dbl&gt;</th></tr>\n",
       "</thead>\n",
       "<tbody>\n",
       "\t<tr><td>22</td><td>31</td><td>31</td><td> 1517157</td><td> 5</td></tr>\n",
       "\t<tr><td>19</td><td>17</td><td>22</td><td> 1893476</td><td> 3</td></tr>\n",
       "\t<tr><td>23</td><td> 4</td><td> 4</td><td>10507693</td><td> 5</td></tr>\n",
       "\t<tr><td>20</td><td>47</td><td>54</td><td> 1285541</td><td> 3</td></tr>\n",
       "\t<tr><td>22</td><td>25</td><td>34</td><td> 2722314</td><td> 6</td></tr>\n",
       "\t<tr><td>32</td><td>11</td><td>45</td><td>11912152</td><td>15</td></tr>\n",
       "\t<tr><td>29</td><td>23</td><td>27</td><td> 4850190</td><td>11</td></tr>\n",
       "\t<tr><td>29</td><td>32</td><td>32</td><td> 2301746</td><td>13</td></tr>\n",
       "\t<tr><td>21</td><td>43</td><td>43</td><td> 1062355</td><td> 3</td></tr>\n",
       "\t<tr><td>35</td><td>18</td><td>85</td><td>10581476</td><td>18</td></tr>\n",
       "</tbody>\n",
       "</table>\n"
      ],
      "text/latex": [
       "A tibble: 10 × 5\n",
       "\\begin{tabular}{lllll}\n",
       " Age & Best\\_Rank & Current\\_Rank & Prize\\_Money & Seasons\\\\\n",
       " <int> & <int> & <int> & <dbl> & <dbl>\\\\\n",
       "\\hline\n",
       "\t 22 & 31 & 31 &  1517157 &  5\\\\\n",
       "\t 19 & 17 & 22 &  1893476 &  3\\\\\n",
       "\t 23 &  4 &  4 & 10507693 &  5\\\\\n",
       "\t 20 & 47 & 54 &  1285541 &  3\\\\\n",
       "\t 22 & 25 & 34 &  2722314 &  6\\\\\n",
       "\t 32 & 11 & 45 & 11912152 & 15\\\\\n",
       "\t 29 & 23 & 27 &  4850190 & 11\\\\\n",
       "\t 29 & 32 & 32 &  2301746 & 13\\\\\n",
       "\t 21 & 43 & 43 &  1062355 &  3\\\\\n",
       "\t 35 & 18 & 85 & 10581476 & 18\\\\\n",
       "\\end{tabular}\n"
      ],
      "text/markdown": [
       "\n",
       "A tibble: 10 × 5\n",
       "\n",
       "| Age &lt;int&gt; | Best_Rank &lt;int&gt; | Current_Rank &lt;int&gt; | Prize_Money &lt;dbl&gt; | Seasons &lt;dbl&gt; |\n",
       "|---|---|---|---|---|\n",
       "| 22 | 31 | 31 |  1517157 |  5 |\n",
       "| 19 | 17 | 22 |  1893476 |  3 |\n",
       "| 23 |  4 |  4 | 10507693 |  5 |\n",
       "| 20 | 47 | 54 |  1285541 |  3 |\n",
       "| 22 | 25 | 34 |  2722314 |  6 |\n",
       "| 32 | 11 | 45 | 11912152 | 15 |\n",
       "| 29 | 23 | 27 |  4850190 | 11 |\n",
       "| 29 | 32 | 32 |  2301746 | 13 |\n",
       "| 21 | 43 | 43 |  1062355 |  3 |\n",
       "| 35 | 18 | 85 | 10581476 | 18 |\n",
       "\n"
      ],
      "text/plain": [
       "   Age Best_Rank Current_Rank Prize_Money Seasons\n",
       "1  22  31        31            1517157     5     \n",
       "2  19  17        22            1893476     3     \n",
       "3  23   4         4           10507693     5     \n",
       "4  20  47        54            1285541     3     \n",
       "5  22  25        34            2722314     6     \n",
       "6  32  11        45           11912152    15     \n",
       "7  29  23        27            4850190    11     \n",
       "8  29  32        32            2301746    13     \n",
       "9  21  43        43            1062355     3     \n",
       "10 35  18        85           10581476    18     "
      ]
     },
     "metadata": {},
     "output_type": "display_data"
    },
    {
     "data": {
      "text/html": [
       "<table class=\"dataframe\">\n",
       "<caption>A tibble: 10 × 5</caption>\n",
       "<thead>\n",
       "\t<tr><th scope=col>Age</th><th scope=col>Best_Rank</th><th scope=col>Current_Rank</th><th scope=col>Prize_Money</th><th scope=col>Seasons</th></tr>\n",
       "\t<tr><th scope=col>&lt;int&gt;</th><th scope=col>&lt;int&gt;</th><th scope=col>&lt;int&gt;</th><th scope=col>&lt;dbl&gt;</th><th scope=col>&lt;dbl&gt;</th></tr>\n",
       "</thead>\n",
       "<tbody>\n",
       "\t<tr><td>21</td><td>229</td><td>232</td><td>    59123</td><td> 1</td></tr>\n",
       "\t<tr><td>30</td><td> 75</td><td>123</td><td>   631094</td><td> 3</td></tr>\n",
       "\t<tr><td>32</td><td>  9</td><td> 12</td><td> 13470614</td><td>16</td></tr>\n",
       "\t<tr><td>27</td><td>166</td><td>384</td><td>   238848</td><td> 4</td></tr>\n",
       "\t<tr><td>25</td><td> 80</td><td> 84</td><td>   827193</td><td> 5</td></tr>\n",
       "\t<tr><td>25</td><td>159</td><td>244</td><td>   381369</td><td> 3</td></tr>\n",
       "\t<tr><td>27</td><td> 26</td><td> 41</td><td>  3062847</td><td>11</td></tr>\n",
       "\t<tr><td>28</td><td> 10</td><td> 30</td><td>  8892564</td><td> 9</td></tr>\n",
       "\t<tr><td>26</td><td> 99</td><td> 99</td><td>   709278</td><td> 7</td></tr>\n",
       "\t<tr><td>33</td><td>  1</td><td>  1</td><td>119601561</td><td>19</td></tr>\n",
       "</tbody>\n",
       "</table>\n"
      ],
      "text/latex": [
       "A tibble: 10 × 5\n",
       "\\begin{tabular}{lllll}\n",
       " Age & Best\\_Rank & Current\\_Rank & Prize\\_Money & Seasons\\\\\n",
       " <int> & <int> & <int> & <dbl> & <dbl>\\\\\n",
       "\\hline\n",
       "\t 21 & 229 & 232 &     59123 &  1\\\\\n",
       "\t 30 &  75 & 123 &    631094 &  3\\\\\n",
       "\t 32 &   9 &  12 &  13470614 & 16\\\\\n",
       "\t 27 & 166 & 384 &    238848 &  4\\\\\n",
       "\t 25 &  80 &  84 &    827193 &  5\\\\\n",
       "\t 25 & 159 & 244 &    381369 &  3\\\\\n",
       "\t 27 &  26 &  41 &   3062847 & 11\\\\\n",
       "\t 28 &  10 &  30 &   8892564 &  9\\\\\n",
       "\t 26 &  99 &  99 &    709278 &  7\\\\\n",
       "\t 33 &   1 &   1 & 119601561 & 19\\\\\n",
       "\\end{tabular}\n"
      ],
      "text/markdown": [
       "\n",
       "A tibble: 10 × 5\n",
       "\n",
       "| Age &lt;int&gt; | Best_Rank &lt;int&gt; | Current_Rank &lt;int&gt; | Prize_Money &lt;dbl&gt; | Seasons &lt;dbl&gt; |\n",
       "|---|---|---|---|---|\n",
       "| 21 | 229 | 232 |     59123 |  1 |\n",
       "| 30 |  75 | 123 |    631094 |  3 |\n",
       "| 32 |   9 |  12 |  13470614 | 16 |\n",
       "| 27 | 166 | 384 |    238848 |  4 |\n",
       "| 25 |  80 |  84 |    827193 |  5 |\n",
       "| 25 | 159 | 244 |    381369 |  3 |\n",
       "| 27 |  26 |  41 |   3062847 | 11 |\n",
       "| 28 |  10 |  30 |   8892564 |  9 |\n",
       "| 26 |  99 |  99 |    709278 |  7 |\n",
       "| 33 |   1 |   1 | 119601561 | 19 |\n",
       "\n"
      ],
      "text/plain": [
       "   Age Best_Rank Current_Rank Prize_Money Seasons\n",
       "1  21  229       232              59123    1     \n",
       "2  30   75       123             631094    3     \n",
       "3  32    9        12           13470614   16     \n",
       "4  27  166       384             238848    4     \n",
       "5  25   80        84             827193    5     \n",
       "6  25  159       244             381369    3     \n",
       "7  27   26        41            3062847   11     \n",
       "8  28   10        30            8892564    9     \n",
       "9  26   99        99             709278    7     \n",
       "10 33    1         1          119601561   19     "
      ]
     },
     "metadata": {},
     "output_type": "display_data"
    }
   ],
   "source": [
    "tennis_data_split <- initial_split(tennis_data_mutated, prop = .75, strata = Current_Rank)\n",
    "tennis_data_train <- training(tennis_data_split)\n",
    "tennis_data_test <- testing(tennis_data_split)\n",
    "head(tennis_data_train, n = 10)\n",
    "head(tennis_data_test, n = 10)"
   ]
  },
  {
   "cell_type": "code",
   "execution_count": 17,
   "id": "7c4fe667-5340-4126-b908-659873a25ec4",
   "metadata": {},
   "outputs": [
    {
     "name": "stdout",
     "output_type": "stream",
     "text": [
      "[1] \"Training Tennis Data Mean\"\n"
     ]
    },
    {
     "data": {
      "text/html": [
       "<table class=\"dataframe\">\n",
       "<caption>A tibble: 1 × 5</caption>\n",
       "<thead>\n",
       "\t<tr><th scope=col>Age</th><th scope=col>Best_Rank</th><th scope=col>Current_Rank</th><th scope=col>Prize_Money</th><th scope=col>Seasons</th></tr>\n",
       "\t<tr><th scope=col>&lt;dbl&gt;</th><th scope=col>&lt;dbl&gt;</th><th scope=col>&lt;dbl&gt;</th><th scope=col>&lt;dbl&gt;</th><th scope=col>&lt;dbl&gt;</th></tr>\n",
       "</thead>\n",
       "<tbody>\n",
       "\t<tr><td>26.75368</td><td>127.8676</td><td>207.1103</td><td>4443704</td><td>6.599265</td></tr>\n",
       "</tbody>\n",
       "</table>\n"
      ],
      "text/latex": [
       "A tibble: 1 × 5\n",
       "\\begin{tabular}{lllll}\n",
       " Age & Best\\_Rank & Current\\_Rank & Prize\\_Money & Seasons\\\\\n",
       " <dbl> & <dbl> & <dbl> & <dbl> & <dbl>\\\\\n",
       "\\hline\n",
       "\t 26.75368 & 127.8676 & 207.1103 & 4443704 & 6.599265\\\\\n",
       "\\end{tabular}\n"
      ],
      "text/markdown": [
       "\n",
       "A tibble: 1 × 5\n",
       "\n",
       "| Age &lt;dbl&gt; | Best_Rank &lt;dbl&gt; | Current_Rank &lt;dbl&gt; | Prize_Money &lt;dbl&gt; | Seasons &lt;dbl&gt; |\n",
       "|---|---|---|---|---|\n",
       "| 26.75368 | 127.8676 | 207.1103 | 4443704 | 6.599265 |\n",
       "\n"
      ],
      "text/plain": [
       "  Age      Best_Rank Current_Rank Prize_Money Seasons \n",
       "1 26.75368 127.8676  207.1103     4443704     6.599265"
      ]
     },
     "metadata": {},
     "output_type": "display_data"
    },
    {
     "name": "stdout",
     "output_type": "stream",
     "text": [
      "[1] \"Training Tennis Data Mean\"\n"
     ]
    },
    {
     "data": {
      "text/html": [
       "<table class=\"dataframe\">\n",
       "<caption>A tibble: 1 × 5</caption>\n",
       "<thead>\n",
       "\t<tr><th scope=col>Age</th><th scope=col>Best_Rank</th><th scope=col>Current_Rank</th><th scope=col>Prize_Money</th><th scope=col>Seasons</th></tr>\n",
       "\t<tr><th scope=col>&lt;dbl&gt;</th><th scope=col>&lt;dbl&gt;</th><th scope=col>&lt;dbl&gt;</th><th scope=col>&lt;dbl&gt;</th><th scope=col>&lt;dbl&gt;</th></tr>\n",
       "</thead>\n",
       "<tbody>\n",
       "\t<tr><td>27</td><td>98.5</td><td>193</td><td>670430.5</td><td>5</td></tr>\n",
       "</tbody>\n",
       "</table>\n"
      ],
      "text/latex": [
       "A tibble: 1 × 5\n",
       "\\begin{tabular}{lllll}\n",
       " Age & Best\\_Rank & Current\\_Rank & Prize\\_Money & Seasons\\\\\n",
       " <dbl> & <dbl> & <dbl> & <dbl> & <dbl>\\\\\n",
       "\\hline\n",
       "\t 27 & 98.5 & 193 & 670430.5 & 5\\\\\n",
       "\\end{tabular}\n"
      ],
      "text/markdown": [
       "\n",
       "A tibble: 1 × 5\n",
       "\n",
       "| Age &lt;dbl&gt; | Best_Rank &lt;dbl&gt; | Current_Rank &lt;dbl&gt; | Prize_Money &lt;dbl&gt; | Seasons &lt;dbl&gt; |\n",
       "|---|---|---|---|---|\n",
       "| 27 | 98.5 | 193 | 670430.5 | 5 |\n",
       "\n"
      ],
      "text/plain": [
       "  Age Best_Rank Current_Rank Prize_Money Seasons\n",
       "1 27  98.5      193          670430.5    5      "
      ]
     },
     "metadata": {},
     "output_type": "display_data"
    }
   ],
   "source": [
    "tennis_data_train_mean <- tennis_data_train |> map_df(mean)\n",
    "tennis_data_train_median <- tennis_data_train |> map_df(median)\n",
    "\n",
    "print(\"Training Tennis Data Mean\")\n",
    "tennis_data_train_mean\n",
    "print(\"Training Tennis Data Median\")\n",
    "tennis_data_train_median"
   ]
  },
  {
   "cell_type": "markdown",
   "id": "ac5d7e91-c254-4597-9037-677e01a4d333",
   "metadata": {},
   "source": [
    "We can see from the tables above that the data needs to be standardized because they all have very different ranges and some have significant outliers like Prize Money."
   ]
  },
  {
   "cell_type": "code",
   "execution_count": null,
   "id": "82966c70-ee55-4e77-a944-97182fa59d69",
   "metadata": {},
   "outputs": [],
   "source": [
    "ggplot(tennis_data_train, aes(x = Age, y = Best_Rank)) +\n",
    "    geom_point() +\n",
    "    labs(title = \"Best Rank vs Age\", x = \"Age\", y = \"Best Rank\") +\n",
    "    theme(text = element_text(size = 20))\n",
    "\n",
    "ggplot(tennis_data_train, aes(x = Current_Rank, y = Best_Rank)) +\n",
    "    geom_point() +\n",
    "    labs(title = \"Best Rank vs Current Rank\", x = \"Current Rank\", y = \"Best Rank\") +\n",
    "    theme(text = element_text(size = 20))\n",
    "\n",
    "ggplot(tennis_data_train, aes(x = Prize_Money, y = Best_Rank)) +\n",
    "    geom_point() +\n",
    "    labs(title = \"Best Rank vs Prize Money\", x = \"Prize Money (US$)\", y = \"Best Rank\") +\n",
    "    theme(text = element_text(size = 20))\n",
    "\n",
    "ggplot(tennis_data_train, aes(x = Seasons, y = Best_Rank)) +\n",
    "    geom_point() +\n",
    "    labs(title = \"Best Rank vs Seasons\", x = \"Seasons\", y = \"Best Rank\") +\n",
    "    theme(text = element_text(size = 20))"
   ]
  },
  {
   "cell_type": "markdown",
   "id": "e831c9f2-1798-41c5-8f75-db6db1d9aae8",
   "metadata": {},
   "source": [
    " As we can see from the plots above, Age and Best Rank have a weak negative linear relationship which suggests that statiscally, age does have an impact on a players best rank, which is why we chose this predictor. Furthermore, Best Rank and Current Rank have a strong positive linear relationship which idicates a player's current rank has a big impact on their projected Best Rank and it can never be higher than the Best Rank. Moreover, Best Rank and Prize Money have a negative exponential relationship which demonstrates ythat only the highest rank players are winning extremly large sums; as aplayer ranks increases their winnings do too. There is also a weak exponential decay relationship between Best rank and Seasons which indicates that the more seasons a player has played the more likely they are to have a higher rank. All of these vaiables have a distinct influence on the best rank which is why we chose as our predictors in our model."
   ]
  },
  {
   "cell_type": "markdown",
   "id": "de797df4-63ff-4fe4-be2f-05c0d76a6ab7",
   "metadata": {
    "tags": []
   },
   "source": [
    "### Methods"
   ]
  },
  {
   "cell_type": "markdown",
   "id": "77a8dbe7-0c88-41cc-83dc-38f4c2ab800f",
   "metadata": {},
   "source": [
    "We plan on Using K-nearest neighbor regression since all of the variables we selected are quantitative. We will have to standardize the data and determine the number of neighbors depending on the smallest estimated error which we will determine from the five fold cross validation from our tennis_data_train dataset. We will evaluate the optimal parameter value for our model by using the standard testing dataset to calculate the standard error, we will do this to all of our variables to ensure we have sufficient amount of predictors.\n",
    "\n",
    "We will use similar scatter plots as the ones above with our standardized data, the predictors will be on the x-axis of their individual plot and the predicted Best Rank will be on the y-axis. \n",
    "\n",
    "TODO:\n",
    "Plots (explain plots more) done +\n",
    "double(outcome will be double number 2.3133) done+\n",
    "predictors (explain why the ones u chose were important) done+\n",
    "include a table (find the mean or sd, use the one that's more relevant) done"
   ]
  },
  {
   "cell_type": "markdown",
   "id": "89ab99f7-c9ae-4c17-907c-6780bef9a489",
   "metadata": {},
   "source": [
    "### Expected Outcomes"
   ]
  },
  {
   "cell_type": "markdown",
   "id": "02a744c9-027e-419d-a372-4ceb04acdee7",
   "metadata": {},
   "source": [
    "// question here for Nour\n",
    "We expect that higher Best rank would be associated with the older players since as they get older they play more seasons, typycally, they get more experience and their rank decreases (increases?) (gets better). We expect that players with higher prize money will have lower (or higher?) best ranks since this means they have been winning larger tournaments. Furthermore players who have a higher current rank will also have a higher best rank because we don't expect there to be so much discrepancy between the two variables. \n",
    "\n",
    "\n",
    "We expect our result to be a double (not an integer) since our model will produce doubles. We are not going to round the results since, so our results would be more specific.\n",
    "\n",
    "This could help future tennis players to predict the trajectory of their career if they are going to keep getting better, rize in ranks, or when their careers will peak.\n",
    "\n",
    "Our model will predict tennis players projected ranks based on seasons played, current rank, age, and prize money.\n",
    "\n",
    "Are there any other variables that have a significant impact on a tennis player's best rank?\n",
    "\n",
    "Is this model applicable to other individual player sports such as golf or squash?\n"
   ]
  },
  {
   "cell_type": "markdown",
   "id": "f6ee7726-7cdf-4ba2-b19e-1af40e8d269a",
   "metadata": {},
   "source": [
    "### References"
   ]
  },
  {
   "cell_type": "markdown",
   "id": "27feae50-f24e-4c22-8c90-379d082949ee",
   "metadata": {},
   "source": [
    "\"Player Stats for Top 500 Players\" from: \n",
    " https://www.ultimatetennisstatistics.com/\n",
    " Accesed through UBC Canvas:\n",
    "https://drive.google.com/uc?export=download&id=1_MECmUXZuuILYeEOfonSGqodW6qVdhsS"
   ]
  },
  {
   "cell_type": "code",
   "execution_count": null,
   "id": "5bb96b6f-b8cd-4a3d-be66-6de1b9528a2a",
   "metadata": {},
   "outputs": [],
   "source": []
  }
 ],
 "metadata": {
  "kernelspec": {
   "display_name": "R",
   "language": "R",
   "name": "ir"
  },
  "language_info": {
   "codemirror_mode": "r",
   "file_extension": ".r",
   "mimetype": "text/x-r-source",
   "name": "R",
   "pygments_lexer": "r",
   "version": "4.1.3"
  }
 },
 "nbformat": 4,
 "nbformat_minor": 5
}
