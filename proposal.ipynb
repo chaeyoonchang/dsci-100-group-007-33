{
 "cells": [
  {
   "cell_type": "markdown",
   "id": "26329fa9-1753-491a-b235-3572ef3fba29",
   "metadata": {},
   "source": [
    "Project Proposal Group 33\n",
    "\n"
   ]
  },
  {
   "cell_type": "markdown",
   "id": "e0a0cadb-beb2-4e75-b068-3ec69b6aa83c",
   "metadata": {},
   "source": [
    "Introduction "
   ]
  },
  {
   "cell_type": "markdown",
   "id": "1291a285-bca9-4cdb-bb87-aeee01d9863e",
   "metadata": {},
   "source": [
    "Preliminary Data Analysis\n"
   ]
  },
  {
   "cell_type": "markdown",
   "id": "de797df4-63ff-4fe4-be2f-05c0d76a6ab7",
   "metadata": {},
   "source": [
    "Methods"
   ]
  },
  {
   "cell_type": "markdown",
   "id": "89ab99f7-c9ae-4c17-907c-6780bef9a489",
   "metadata": {},
   "source": [
    "Expected Outcomes"
   ]
  },
  {
   "cell_type": "markdown",
   "id": "f6ee7726-7cdf-4ba2-b19e-1af40e8d269a",
   "metadata": {},
   "source": [
    "References"
   ]
  },
  {
   "cell_type": "code",
   "execution_count": null,
   "id": "5bb96b6f-b8cd-4a3d-be66-6de1b9528a2a",
   "metadata": {},
   "outputs": [],
   "source": []
  }
 ],
 "metadata": {
  "kernelspec": {
   "display_name": "R",
   "language": "R",
   "name": "ir"
  },
  "language_info": {
   "codemirror_mode": "r",
   "file_extension": ".r",
   "mimetype": "text/x-r-source",
   "name": "R",
   "pygments_lexer": "r",
   "version": "4.2.2"
  }
 },
 "nbformat": 4,
 "nbformat_minor": 5
}
