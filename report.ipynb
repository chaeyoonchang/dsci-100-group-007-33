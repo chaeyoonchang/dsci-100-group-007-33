{
 "cells": [
  {
   "cell_type": "markdown",
   "id": "57f2d5f4-e7ec-4d16-85f3-f49062d42868",
   "metadata": {},
   "source": [
    "# Project Proposal Group 33\n"
   ]
  },
  {
   "cell_type": "markdown",
   "id": "5458dc18-3a85-4106-9413-770048b8cdf5",
   "metadata": {},
   "source": [
    "### Predicting a Tennis Player's Best Rank Based on Their Age, Seasons Played, Current Rank, and Prize Money"
   ]
  },
  {
   "cell_type": "markdown",
   "id": "03290dee-d75a-464a-9c50-f70885257b59",
   "metadata": {},
   "source": [
    "### Introduction\n"
   ]
  },
  {
   "cell_type": "markdown",
   "id": "d8e1dbd4-1ce0-48cd-93b3-ba25d9ab3f05",
   "metadata": {},
   "source": [
    "Tennis is a popular sport with a history of competitive tournaments and rankings. Tennis player rankings are essential to evaluate their performance but predicting a player's best rank can be difficult. This project aims to use K-nearest neighbor regression to predict a player's best rank based on age, seasons played, current rank, and prize money. The dataset will be analyzed using five-fold cross-validation, and visualization techniques such as scatter plots will provide insight into factors that influence ranking."
   ]
  },
  {
   "cell_type": "markdown",
   "id": "62a1006b-873b-42d2-a19e-df18d1e1e05f",
   "metadata": {},
   "source": [
    "### Preliminary Data Analysis\n"
   ]
  },
  {
   "cell_type": "code",
   "execution_count": 6,
   "id": "3e66144c-ad69-455f-b908-808ce4ec5e88",
   "metadata": {},
   "outputs": [
    {
     "name": "stderr",
     "output_type": "stream",
     "text": [
      "── \u001b[1mAttaching packages\u001b[22m ─────────────────────────────────────── tidyverse 1.3.1 ──\n",
      "\n",
      "\u001b[32m✔\u001b[39m \u001b[34mggplot2\u001b[39m 3.3.6     \u001b[32m✔\u001b[39m \u001b[34mpurrr  \u001b[39m 0.3.4\n",
      "\u001b[32m✔\u001b[39m \u001b[34mtibble \u001b[39m 3.1.7     \u001b[32m✔\u001b[39m \u001b[34mdplyr  \u001b[39m 1.0.9\n",
      "\u001b[32m✔\u001b[39m \u001b[34mtidyr  \u001b[39m 1.2.0     \u001b[32m✔\u001b[39m \u001b[34mstringr\u001b[39m 1.4.0\n",
      "\u001b[32m✔\u001b[39m \u001b[34mreadr  \u001b[39m 2.1.2     \u001b[32m✔\u001b[39m \u001b[34mforcats\u001b[39m 0.5.1\n",
      "\n",
      "── \u001b[1mConflicts\u001b[22m ────────────────────────────────────────── tidyverse_conflicts() ──\n",
      "\u001b[31m✖\u001b[39m \u001b[34mdplyr\u001b[39m::\u001b[32mfilter()\u001b[39m masks \u001b[34mstats\u001b[39m::filter()\n",
      "\u001b[31m✖\u001b[39m \u001b[34mdplyr\u001b[39m::\u001b[32mlag()\u001b[39m    masks \u001b[34mstats\u001b[39m::lag()\n",
      "\n",
      "── \u001b[1mAttaching packages\u001b[22m ────────────────────────────────────── tidymodels 1.0.0 ──\n",
      "\n",
      "\u001b[32m✔\u001b[39m \u001b[34mbroom       \u001b[39m 1.0.0     \u001b[32m✔\u001b[39m \u001b[34mrsample     \u001b[39m 1.0.0\n",
      "\u001b[32m✔\u001b[39m \u001b[34mdials       \u001b[39m 1.0.0     \u001b[32m✔\u001b[39m \u001b[34mtune        \u001b[39m 1.0.0\n",
      "\u001b[32m✔\u001b[39m \u001b[34minfer       \u001b[39m 1.0.2     \u001b[32m✔\u001b[39m \u001b[34mworkflows   \u001b[39m 1.0.0\n",
      "\u001b[32m✔\u001b[39m \u001b[34mmodeldata   \u001b[39m 1.0.0     \u001b[32m✔\u001b[39m \u001b[34mworkflowsets\u001b[39m 1.0.0\n",
      "\u001b[32m✔\u001b[39m \u001b[34mparsnip     \u001b[39m 1.0.0     \u001b[32m✔\u001b[39m \u001b[34myardstick   \u001b[39m 1.0.0\n",
      "\u001b[32m✔\u001b[39m \u001b[34mrecipes     \u001b[39m 1.0.1     \n",
      "\n",
      "── \u001b[1mConflicts\u001b[22m ───────────────────────────────────────── tidymodels_conflicts() ──\n",
      "\u001b[31m✖\u001b[39m \u001b[34mscales\u001b[39m::\u001b[32mdiscard()\u001b[39m masks \u001b[34mpurrr\u001b[39m::discard()\n",
      "\u001b[31m✖\u001b[39m \u001b[34mdplyr\u001b[39m::\u001b[32mfilter()\u001b[39m   masks \u001b[34mstats\u001b[39m::filter()\n",
      "\u001b[31m✖\u001b[39m \u001b[34mrecipes\u001b[39m::\u001b[32mfixed()\u001b[39m  masks \u001b[34mstringr\u001b[39m::fixed()\n",
      "\u001b[31m✖\u001b[39m \u001b[34mdplyr\u001b[39m::\u001b[32mlag()\u001b[39m      masks \u001b[34mstats\u001b[39m::lag()\n",
      "\u001b[31m✖\u001b[39m \u001b[34myardstick\u001b[39m::\u001b[32mspec()\u001b[39m masks \u001b[34mreadr\u001b[39m::spec()\n",
      "\u001b[31m✖\u001b[39m \u001b[34mrecipes\u001b[39m::\u001b[32mstep()\u001b[39m   masks \u001b[34mstats\u001b[39m::step()\n",
      "\u001b[34m•\u001b[39m Use suppressPackageStartupMessages() to eliminate package startup messages\n",
      "\n"
     ]
    }
   ],
   "source": [
    "library(tidyverse)\n",
    "library(repr)\n",
    "library(tidymodels)"
   ]
  },
  {
   "cell_type": "markdown",
   "id": "e747928d-2568-433b-8be6-0ed469a960c5",
   "metadata": {},
   "source": [
    "The seed value is set to 4321 to enusre that every random process yields the same oucome when the code reruns."
   ]
  },
  {
   "cell_type": "code",
   "execution_count": 7,
   "id": "11d153ab-089f-4172-9fa3-54b4e9000879",
   "metadata": {},
   "outputs": [],
   "source": [
    "set.seed(4321)"
   ]
  },
  {
   "cell_type": "code",
   "execution_count": 8,
   "id": "78292ae1-83d4-46b8-aa44-2c9262c61729",
   "metadata": {},
   "outputs": [
    {
     "name": "stderr",
     "output_type": "stream",
     "text": [
      "\u001b[1m\u001b[22mNew names:\n",
      "\u001b[36m•\u001b[39m `` -> `...1`\n",
      "\u001b[1mRows: \u001b[22m\u001b[34m500\u001b[39m \u001b[1mColumns: \u001b[22m\u001b[34m38\u001b[39m\n",
      "\u001b[36m──\u001b[39m \u001b[1mColumn specification\u001b[22m \u001b[36m────────────────────────────────────────────────────────\u001b[39m\n",
      "\u001b[1mDelimiter:\u001b[22m \",\"\n",
      "\u001b[31mchr\u001b[39m (25): Age, Country, Plays, Wikipedia, Current Rank, Best Rank, Name, Bac...\n",
      "\u001b[32mdbl\u001b[39m (13): ...1, Turned Pro, Seasons, Titles, Best Season, Retired, Masters, ...\n",
      "\n",
      "\u001b[36mℹ\u001b[39m Use `spec()` to retrieve the full column specification for this data.\n",
      "\u001b[36mℹ\u001b[39m Specify the column types or set `show_col_types = FALSE` to quiet this message.\n"
     ]
    },
    {
     "data": {
      "text/html": [
       "<table class=\"dataframe\">\n",
       "<caption>A tibble: 10 × 38</caption>\n",
       "<thead>\n",
       "\t<tr><th scope=col>...1</th><th scope=col>Age</th><th scope=col>Country</th><th scope=col>Plays</th><th scope=col>Wikipedia</th><th scope=col>Current Rank</th><th scope=col>Best Rank</th><th scope=col>Name</th><th scope=col>Backhand</th><th scope=col>Prize Money</th><th scope=col>⋯</th><th scope=col>Facebook</th><th scope=col>Twitter</th><th scope=col>Nicknames</th><th scope=col>Grand Slams</th><th scope=col>Davis Cups</th><th scope=col>Web Site</th><th scope=col>Team Cups</th><th scope=col>Olympics</th><th scope=col>Weeks at No. 1</th><th scope=col>Tour Finals</th></tr>\n",
       "\t<tr><th scope=col>&lt;dbl&gt;</th><th scope=col>&lt;chr&gt;</th><th scope=col>&lt;chr&gt;</th><th scope=col>&lt;chr&gt;</th><th scope=col>&lt;chr&gt;</th><th scope=col>&lt;chr&gt;</th><th scope=col>&lt;chr&gt;</th><th scope=col>&lt;chr&gt;</th><th scope=col>&lt;chr&gt;</th><th scope=col>&lt;chr&gt;</th><th scope=col>⋯</th><th scope=col>&lt;chr&gt;</th><th scope=col>&lt;chr&gt;</th><th scope=col>&lt;chr&gt;</th><th scope=col>&lt;dbl&gt;</th><th scope=col>&lt;dbl&gt;</th><th scope=col>&lt;chr&gt;</th><th scope=col>&lt;dbl&gt;</th><th scope=col>&lt;dbl&gt;</th><th scope=col>&lt;dbl&gt;</th><th scope=col>&lt;dbl&gt;</th></tr>\n",
       "</thead>\n",
       "<tbody>\n",
       "\t<tr><td>0</td><td>26 (25-04-1993)</td><td>Brazil                   </td><td>Right-handed</td><td>Wikipedia</td><td>378 (97) </td><td>363 (04-11-2019)</td><td>Oscar Jose Gutierrez</td><td>NA        </td><td>NA          </td><td>⋯</td><td>NA</td><td>NA</td><td>NA</td><td>NA</td><td>NA</td><td>NA</td><td>NA</td><td>NA</td><td>NA</td><td>NA</td></tr>\n",
       "\t<tr><td>1</td><td>18 (22-12-2001)</td><td>United Kingdom           </td><td>Left-handed </td><td>Wikipedia</td><td>326 (119)</td><td>316 (14-10-2019)</td><td>Jack Draper         </td><td>Two-handed</td><td>$59,040     </td><td>⋯</td><td>NA</td><td>NA</td><td>NA</td><td>NA</td><td>NA</td><td>NA</td><td>NA</td><td>NA</td><td>NA</td><td>NA</td></tr>\n",
       "\t<tr><td>2</td><td>32 (03-11-1987)</td><td>Slovakia                 </td><td>Right-handed</td><td>Wikipedia</td><td>178 (280)</td><td>44 (14-01-2013) </td><td>Lukas Lacko         </td><td>Two-handed</td><td>US$3,261,567</td><td>⋯</td><td>NA</td><td>NA</td><td>NA</td><td>NA</td><td>NA</td><td>NA</td><td>NA</td><td>NA</td><td>NA</td><td>NA</td></tr>\n",
       "\t<tr><td>3</td><td>21 (29-05-1998)</td><td>Korea, Republic of       </td><td>Right-handed</td><td>Wikipedia</td><td>236 (199)</td><td>130 (10-04-2017)</td><td>Duck Hee Lee        </td><td>Two-handed</td><td>$374,093    </td><td>⋯</td><td>NA</td><td>NA</td><td>NA</td><td>NA</td><td>NA</td><td>NA</td><td>NA</td><td>NA</td><td>NA</td><td>NA</td></tr>\n",
       "\t<tr><td>4</td><td>27 (21-10-1992)</td><td>Australia                </td><td>Right-handed</td><td>Wikipedia</td><td>183 (273)</td><td>17 (11-01-2016) </td><td>Bernard Tomic       </td><td>Two-handed</td><td>US$6,091,971</td><td>⋯</td><td>NA</td><td>NA</td><td>NA</td><td>NA</td><td>NA</td><td>NA</td><td>NA</td><td>NA</td><td>NA</td><td>NA</td></tr>\n",
       "\t<tr><td>5</td><td>22 (11-02-1997)</td><td>Poland                   </td><td>Right-handed</td><td>Wikipedia</td><td>31 (1398)</td><td>31 (20-01-2020) </td><td>Hubert Hurkacz      </td><td>Two-handed</td><td>$1,517,157  </td><td>⋯</td><td>NA</td><td>NA</td><td>NA</td><td>NA</td><td>NA</td><td>NA</td><td>NA</td><td>NA</td><td>NA</td><td>NA</td></tr>\n",
       "\t<tr><td>6</td><td>28 (18-11-1991)</td><td>United States            </td><td>Right-handed</td><td>Wikipedia</td><td>307 (131)</td><td>213 (31-10-2016)</td><td>Sekou Bangoura      </td><td>Two-handed</td><td>$278,709    </td><td>⋯</td><td>NA</td><td>NA</td><td>NA</td><td>NA</td><td>NA</td><td>NA</td><td>NA</td><td>NA</td><td>NA</td><td>NA</td></tr>\n",
       "\t<tr><td>7</td><td>21 (12-05-1998)</td><td>Taiwan, Province of China</td><td>Right-handed</td><td>Wikipedia</td><td>232 (205)</td><td>229 (04-11-2019)</td><td>Tung Lin Wu         </td><td>Two-handed</td><td>$59,123     </td><td>⋯</td><td>NA</td><td>NA</td><td>NA</td><td>NA</td><td>NA</td><td>NA</td><td>NA</td><td>NA</td><td>NA</td><td>NA</td></tr>\n",
       "\t<tr><td>8</td><td>25 (29-07-1994)</td><td>Uzbekistan               </td><td>Right-handed</td><td>Wikipedia</td><td>417 (81) </td><td>253 (17-07-2017)</td><td>Sanjar Fayziev      </td><td>Two-handed</td><td>$122,734    </td><td>⋯</td><td>NA</td><td>NA</td><td>NA</td><td>NA</td><td>NA</td><td>NA</td><td>NA</td><td>NA</td><td>NA</td><td>NA</td></tr>\n",
       "\t<tr><td>9</td><td>20 (02-04-1999)</td><td>Finland                  </td><td>Right-handed</td><td>Wikipedia</td><td>104 (534)</td><td>104 (13-01-2020)</td><td>Emil Ruusuvuori     </td><td>Two-handed</td><td>US$74,927   </td><td>⋯</td><td>NA</td><td>NA</td><td>NA</td><td>NA</td><td>NA</td><td>NA</td><td>NA</td><td>NA</td><td>NA</td><td>NA</td></tr>\n",
       "</tbody>\n",
       "</table>\n"
      ],
      "text/latex": [
       "A tibble: 10 × 38\n",
       "\\begin{tabular}{lllllllllllllllllllll}\n",
       " ...1 & Age & Country & Plays & Wikipedia & Current Rank & Best Rank & Name & Backhand & Prize Money & ⋯ & Facebook & Twitter & Nicknames & Grand Slams & Davis Cups & Web Site & Team Cups & Olympics & Weeks at No. 1 & Tour Finals\\\\\n",
       " <dbl> & <chr> & <chr> & <chr> & <chr> & <chr> & <chr> & <chr> & <chr> & <chr> & ⋯ & <chr> & <chr> & <chr> & <dbl> & <dbl> & <chr> & <dbl> & <dbl> & <dbl> & <dbl>\\\\\n",
       "\\hline\n",
       "\t 0 & 26 (25-04-1993) & Brazil                    & Right-handed & Wikipedia & 378 (97)  & 363 (04-11-2019) & Oscar Jose Gutierrez & NA         & NA           & ⋯ & NA & NA & NA & NA & NA & NA & NA & NA & NA & NA\\\\\n",
       "\t 1 & 18 (22-12-2001) & United Kingdom            & Left-handed  & Wikipedia & 326 (119) & 316 (14-10-2019) & Jack Draper          & Two-handed & \\$59,040      & ⋯ & NA & NA & NA & NA & NA & NA & NA & NA & NA & NA\\\\\n",
       "\t 2 & 32 (03-11-1987) & Slovakia                  & Right-handed & Wikipedia & 178 (280) & 44 (14-01-2013)  & Lukas Lacko          & Two-handed & US\\$3,261,567 & ⋯ & NA & NA & NA & NA & NA & NA & NA & NA & NA & NA\\\\\n",
       "\t 3 & 21 (29-05-1998) & Korea, Republic of        & Right-handed & Wikipedia & 236 (199) & 130 (10-04-2017) & Duck Hee Lee         & Two-handed & \\$374,093     & ⋯ & NA & NA & NA & NA & NA & NA & NA & NA & NA & NA\\\\\n",
       "\t 4 & 27 (21-10-1992) & Australia                 & Right-handed & Wikipedia & 183 (273) & 17 (11-01-2016)  & Bernard Tomic        & Two-handed & US\\$6,091,971 & ⋯ & NA & NA & NA & NA & NA & NA & NA & NA & NA & NA\\\\\n",
       "\t 5 & 22 (11-02-1997) & Poland                    & Right-handed & Wikipedia & 31 (1398) & 31 (20-01-2020)  & Hubert Hurkacz       & Two-handed & \\$1,517,157   & ⋯ & NA & NA & NA & NA & NA & NA & NA & NA & NA & NA\\\\\n",
       "\t 6 & 28 (18-11-1991) & United States             & Right-handed & Wikipedia & 307 (131) & 213 (31-10-2016) & Sekou Bangoura       & Two-handed & \\$278,709     & ⋯ & NA & NA & NA & NA & NA & NA & NA & NA & NA & NA\\\\\n",
       "\t 7 & 21 (12-05-1998) & Taiwan, Province of China & Right-handed & Wikipedia & 232 (205) & 229 (04-11-2019) & Tung Lin Wu          & Two-handed & \\$59,123      & ⋯ & NA & NA & NA & NA & NA & NA & NA & NA & NA & NA\\\\\n",
       "\t 8 & 25 (29-07-1994) & Uzbekistan                & Right-handed & Wikipedia & 417 (81)  & 253 (17-07-2017) & Sanjar Fayziev       & Two-handed & \\$122,734     & ⋯ & NA & NA & NA & NA & NA & NA & NA & NA & NA & NA\\\\\n",
       "\t 9 & 20 (02-04-1999) & Finland                   & Right-handed & Wikipedia & 104 (534) & 104 (13-01-2020) & Emil Ruusuvuori      & Two-handed & US\\$74,927    & ⋯ & NA & NA & NA & NA & NA & NA & NA & NA & NA & NA\\\\\n",
       "\\end{tabular}\n"
      ],
      "text/markdown": [
       "\n",
       "A tibble: 10 × 38\n",
       "\n",
       "| ...1 &lt;dbl&gt; | Age &lt;chr&gt; | Country &lt;chr&gt; | Plays &lt;chr&gt; | Wikipedia &lt;chr&gt; | Current Rank &lt;chr&gt; | Best Rank &lt;chr&gt; | Name &lt;chr&gt; | Backhand &lt;chr&gt; | Prize Money &lt;chr&gt; | ⋯ ⋯ | Facebook &lt;chr&gt; | Twitter &lt;chr&gt; | Nicknames &lt;chr&gt; | Grand Slams &lt;dbl&gt; | Davis Cups &lt;dbl&gt; | Web Site &lt;chr&gt; | Team Cups &lt;dbl&gt; | Olympics &lt;dbl&gt; | Weeks at No. 1 &lt;dbl&gt; | Tour Finals &lt;dbl&gt; |\n",
       "|---|---|---|---|---|---|---|---|---|---|---|---|---|---|---|---|---|---|---|---|---|\n",
       "| 0 | 26 (25-04-1993) | Brazil                    | Right-handed | Wikipedia | 378 (97)  | 363 (04-11-2019) | Oscar Jose Gutierrez | NA         | NA           | ⋯ | NA | NA | NA | NA | NA | NA | NA | NA | NA | NA |\n",
       "| 1 | 18 (22-12-2001) | United Kingdom            | Left-handed  | Wikipedia | 326 (119) | 316 (14-10-2019) | Jack Draper          | Two-handed | $59,040      | ⋯ | NA | NA | NA | NA | NA | NA | NA | NA | NA | NA |\n",
       "| 2 | 32 (03-11-1987) | Slovakia                  | Right-handed | Wikipedia | 178 (280) | 44 (14-01-2013)  | Lukas Lacko          | Two-handed | US$3,261,567 | ⋯ | NA | NA | NA | NA | NA | NA | NA | NA | NA | NA |\n",
       "| 3 | 21 (29-05-1998) | Korea, Republic of        | Right-handed | Wikipedia | 236 (199) | 130 (10-04-2017) | Duck Hee Lee         | Two-handed | $374,093     | ⋯ | NA | NA | NA | NA | NA | NA | NA | NA | NA | NA |\n",
       "| 4 | 27 (21-10-1992) | Australia                 | Right-handed | Wikipedia | 183 (273) | 17 (11-01-2016)  | Bernard Tomic        | Two-handed | US$6,091,971 | ⋯ | NA | NA | NA | NA | NA | NA | NA | NA | NA | NA |\n",
       "| 5 | 22 (11-02-1997) | Poland                    | Right-handed | Wikipedia | 31 (1398) | 31 (20-01-2020)  | Hubert Hurkacz       | Two-handed | $1,517,157   | ⋯ | NA | NA | NA | NA | NA | NA | NA | NA | NA | NA |\n",
       "| 6 | 28 (18-11-1991) | United States             | Right-handed | Wikipedia | 307 (131) | 213 (31-10-2016) | Sekou Bangoura       | Two-handed | $278,709     | ⋯ | NA | NA | NA | NA | NA | NA | NA | NA | NA | NA |\n",
       "| 7 | 21 (12-05-1998) | Taiwan, Province of China | Right-handed | Wikipedia | 232 (205) | 229 (04-11-2019) | Tung Lin Wu          | Two-handed | $59,123      | ⋯ | NA | NA | NA | NA | NA | NA | NA | NA | NA | NA |\n",
       "| 8 | 25 (29-07-1994) | Uzbekistan                | Right-handed | Wikipedia | 417 (81)  | 253 (17-07-2017) | Sanjar Fayziev       | Two-handed | $122,734     | ⋯ | NA | NA | NA | NA | NA | NA | NA | NA | NA | NA |\n",
       "| 9 | 20 (02-04-1999) | Finland                   | Right-handed | Wikipedia | 104 (534) | 104 (13-01-2020) | Emil Ruusuvuori      | Two-handed | US$74,927    | ⋯ | NA | NA | NA | NA | NA | NA | NA | NA | NA | NA |\n",
       "\n"
      ],
      "text/plain": [
       "   ...1 Age             Country                   Plays        Wikipedia\n",
       "1  0    26 (25-04-1993) Brazil                    Right-handed Wikipedia\n",
       "2  1    18 (22-12-2001) United Kingdom            Left-handed  Wikipedia\n",
       "3  2    32 (03-11-1987) Slovakia                  Right-handed Wikipedia\n",
       "4  3    21 (29-05-1998) Korea, Republic of        Right-handed Wikipedia\n",
       "5  4    27 (21-10-1992) Australia                 Right-handed Wikipedia\n",
       "6  5    22 (11-02-1997) Poland                    Right-handed Wikipedia\n",
       "7  6    28 (18-11-1991) United States             Right-handed Wikipedia\n",
       "8  7    21 (12-05-1998) Taiwan, Province of China Right-handed Wikipedia\n",
       "9  8    25 (29-07-1994) Uzbekistan                Right-handed Wikipedia\n",
       "10 9    20 (02-04-1999) Finland                   Right-handed Wikipedia\n",
       "   Current Rank Best Rank        Name                 Backhand   Prize Money  ⋯\n",
       "1  378 (97)     363 (04-11-2019) Oscar Jose Gutierrez NA         NA           ⋯\n",
       "2  326 (119)    316 (14-10-2019) Jack Draper          Two-handed $59,040      ⋯\n",
       "3  178 (280)    44 (14-01-2013)  Lukas Lacko          Two-handed US$3,261,567 ⋯\n",
       "4  236 (199)    130 (10-04-2017) Duck Hee Lee         Two-handed $374,093     ⋯\n",
       "5  183 (273)    17 (11-01-2016)  Bernard Tomic        Two-handed US$6,091,971 ⋯\n",
       "6  31 (1398)    31 (20-01-2020)  Hubert Hurkacz       Two-handed $1,517,157   ⋯\n",
       "7  307 (131)    213 (31-10-2016) Sekou Bangoura       Two-handed $278,709     ⋯\n",
       "8  232 (205)    229 (04-11-2019) Tung Lin Wu          Two-handed $59,123      ⋯\n",
       "9  417 (81)     253 (17-07-2017) Sanjar Fayziev       Two-handed $122,734     ⋯\n",
       "10 104 (534)    104 (13-01-2020) Emil Ruusuvuori      Two-handed US$74,927    ⋯\n",
       "   Facebook Twitter Nicknames Grand Slams Davis Cups Web Site Team Cups\n",
       "1  NA       NA      NA        NA          NA         NA       NA       \n",
       "2  NA       NA      NA        NA          NA         NA       NA       \n",
       "3  NA       NA      NA        NA          NA         NA       NA       \n",
       "4  NA       NA      NA        NA          NA         NA       NA       \n",
       "5  NA       NA      NA        NA          NA         NA       NA       \n",
       "6  NA       NA      NA        NA          NA         NA       NA       \n",
       "7  NA       NA      NA        NA          NA         NA       NA       \n",
       "8  NA       NA      NA        NA          NA         NA       NA       \n",
       "9  NA       NA      NA        NA          NA         NA       NA       \n",
       "10 NA       NA      NA        NA          NA         NA       NA       \n",
       "   Olympics Weeks at No. 1 Tour Finals\n",
       "1  NA       NA             NA         \n",
       "2  NA       NA             NA         \n",
       "3  NA       NA             NA         \n",
       "4  NA       NA             NA         \n",
       "5  NA       NA             NA         \n",
       "6  NA       NA             NA         \n",
       "7  NA       NA             NA         \n",
       "8  NA       NA             NA         \n",
       "9  NA       NA             NA         \n",
       "10 NA       NA             NA         "
      ]
     },
     "metadata": {},
     "output_type": "display_data"
    }
   ],
   "source": [
    "url <- \"https://drive.google.com/uc?export=download&id=1_MECmUXZuuILYeEOfonSGqodW6qVdhsS\"\n",
    "tennis_data <- read_csv(url)\n",
    "head(tennis_data, n=10)"
   ]
  },
  {
   "cell_type": "markdown",
   "id": "6238571c-b0b8-49d3-ad21-3df0e6cd4171",
   "metadata": {},
   "source": [
    "For our project we chose the columns Age, Best Rank, Prize Money, Current Rank, and Seasons. These predictors were selected because they contain the most data compared to other columns which mostly contain N/As and all these variables have a direct or indirect impact on a player's performance.\n",
    "\n",
    "We also isolated our desired variables, deleted empty observations, and removed unnecessary characters such as the unnecessary strings in the Prize Money varaible."
   ]
  },
  {
   "cell_type": "code",
   "execution_count": 9,
   "id": "f98c097e-8a30-4b3b-85f0-2e2da370706a",
   "metadata": {},
   "outputs": [
    {
     "data": {
      "text/html": [
       "<table class=\"dataframe\">\n",
       "<caption>A tibble: 10 × 5</caption>\n",
       "<thead>\n",
       "\t<tr><th scope=col>Age</th><th scope=col>best_rank</th><th scope=col>current_rank</th><th scope=col>Prize.Money</th><th scope=col>Seasons</th></tr>\n",
       "\t<tr><th scope=col>&lt;int&gt;</th><th scope=col>&lt;int&gt;</th><th scope=col>&lt;int&gt;</th><th scope=col>&lt;chr&gt;</th><th scope=col>&lt;dbl&gt;</th></tr>\n",
       "</thead>\n",
       "<tbody>\n",
       "\t<tr><td>26</td><td>363</td><td>378</td><td>NA          </td><td>NA</td></tr>\n",
       "\t<tr><td>18</td><td>316</td><td>326</td><td>$59,040     </td><td>NA</td></tr>\n",
       "\t<tr><td>32</td><td> 44</td><td>178</td><td>US$3,261,567</td><td>14</td></tr>\n",
       "\t<tr><td>21</td><td>130</td><td>236</td><td>$374,093    </td><td> 2</td></tr>\n",
       "\t<tr><td>27</td><td> 17</td><td>183</td><td>US$6,091,971</td><td>11</td></tr>\n",
       "\t<tr><td>22</td><td> 31</td><td> 31</td><td>$1,517,157  </td><td> 5</td></tr>\n",
       "\t<tr><td>28</td><td>213</td><td>307</td><td>$278,709    </td><td> 1</td></tr>\n",
       "\t<tr><td>21</td><td>229</td><td>232</td><td>$59,123     </td><td> 1</td></tr>\n",
       "\t<tr><td>25</td><td>253</td><td>417</td><td>$122,734    </td><td> 5</td></tr>\n",
       "\t<tr><td>20</td><td>104</td><td>104</td><td>US$74,927   </td><td> 3</td></tr>\n",
       "</tbody>\n",
       "</table>\n"
      ],
      "text/latex": [
       "A tibble: 10 × 5\n",
       "\\begin{tabular}{lllll}\n",
       " Age & best\\_rank & current\\_rank & Prize.Money & Seasons\\\\\n",
       " <int> & <int> & <int> & <chr> & <dbl>\\\\\n",
       "\\hline\n",
       "\t 26 & 363 & 378 & NA           & NA\\\\\n",
       "\t 18 & 316 & 326 & \\$59,040      & NA\\\\\n",
       "\t 32 &  44 & 178 & US\\$3,261,567 & 14\\\\\n",
       "\t 21 & 130 & 236 & \\$374,093     &  2\\\\\n",
       "\t 27 &  17 & 183 & US\\$6,091,971 & 11\\\\\n",
       "\t 22 &  31 &  31 & \\$1,517,157   &  5\\\\\n",
       "\t 28 & 213 & 307 & \\$278,709     &  1\\\\\n",
       "\t 21 & 229 & 232 & \\$59,123      &  1\\\\\n",
       "\t 25 & 253 & 417 & \\$122,734     &  5\\\\\n",
       "\t 20 & 104 & 104 & US\\$74,927    &  3\\\\\n",
       "\\end{tabular}\n"
      ],
      "text/markdown": [
       "\n",
       "A tibble: 10 × 5\n",
       "\n",
       "| Age &lt;int&gt; | best_rank &lt;int&gt; | current_rank &lt;int&gt; | Prize.Money &lt;chr&gt; | Seasons &lt;dbl&gt; |\n",
       "|---|---|---|---|---|\n",
       "| 26 | 363 | 378 | NA           | NA |\n",
       "| 18 | 316 | 326 | $59,040      | NA |\n",
       "| 32 |  44 | 178 | US$3,261,567 | 14 |\n",
       "| 21 | 130 | 236 | $374,093     |  2 |\n",
       "| 27 |  17 | 183 | US$6,091,971 | 11 |\n",
       "| 22 |  31 |  31 | $1,517,157   |  5 |\n",
       "| 28 | 213 | 307 | $278,709     |  1 |\n",
       "| 21 | 229 | 232 | $59,123      |  1 |\n",
       "| 25 | 253 | 417 | $122,734     |  5 |\n",
       "| 20 | 104 | 104 | US$74,927    |  3 |\n",
       "\n"
      ],
      "text/plain": [
       "   Age best_rank current_rank Prize.Money  Seasons\n",
       "1  26  363       378          NA           NA     \n",
       "2  18  316       326          $59,040      NA     \n",
       "3  32   44       178          US$3,261,567 14     \n",
       "4  21  130       236          $374,093      2     \n",
       "5  27   17       183          US$6,091,971 11     \n",
       "6  22   31        31          $1,517,157    5     \n",
       "7  28  213       307          $278,709      1     \n",
       "8  21  229       232          $59,123       1     \n",
       "9  25  253       417          $122,734      5     \n",
       "10 20  104       104          US$74,927     3     "
      ]
     },
     "metadata": {},
     "output_type": "display_data"
    }
   ],
   "source": [
    "colnames(tennis_data) <- make.names(colnames(tennis_data))\n",
    "tennis_data_separated <- tennis_data |> select(Age, Best.Rank, Prize.Money, Seasons, Current.Rank) |>\n",
    "                separate(col = Age,\n",
    "                        into = c(\"Age\", \"date\"),\n",
    "                        sep=\" \",\n",
    "                        convert=TRUE) |>\n",
    "                separate(col = Best.Rank,\n",
    "                        into = c(\"best_rank\", \"date_rank\"),\n",
    "                        sep=\" \",\n",
    "                        convert=TRUE) |>\n",
    "\n",
    "                separate(col = Current.Rank,\n",
    "                        into = c(\"current_rank\", \"date_cur_rank\"),\n",
    "                        sep=\" \",\n",
    "                        convert=TRUE) |>\n",
    "    select(Age, best_rank, current_rank, Prize.Money, Seasons)\n",
    "\n",
    "head(tennis_data_separated, n = 10)"
   ]
  },
  {
   "cell_type": "code",
   "execution_count": 10,
   "id": "7338a647-5639-43c6-a947-2debc8045336",
   "metadata": {},
   "outputs": [
    {
     "data": {
      "text/html": [
       "<table class=\"dataframe\">\n",
       "<caption>A tibble: 10 × 5</caption>\n",
       "<thead>\n",
       "\t<tr><th scope=col>Age</th><th scope=col>Best_Rank</th><th scope=col>Current_Rank</th><th scope=col>Prize.Money</th><th scope=col>Seasons</th></tr>\n",
       "\t<tr><th scope=col>&lt;int&gt;</th><th scope=col>&lt;int&gt;</th><th scope=col>&lt;int&gt;</th><th scope=col>&lt;chr&gt;</th><th scope=col>&lt;dbl&gt;</th></tr>\n",
       "</thead>\n",
       "<tbody>\n",
       "\t<tr><td>26</td><td>363</td><td>378</td><td>NA     </td><td>NA</td></tr>\n",
       "\t<tr><td>18</td><td>316</td><td>326</td><td>59040  </td><td>NA</td></tr>\n",
       "\t<tr><td>32</td><td> 44</td><td>178</td><td>3261567</td><td>14</td></tr>\n",
       "\t<tr><td>21</td><td>130</td><td>236</td><td>374093 </td><td> 2</td></tr>\n",
       "\t<tr><td>27</td><td> 17</td><td>183</td><td>6091971</td><td>11</td></tr>\n",
       "\t<tr><td>22</td><td> 31</td><td> 31</td><td>1517157</td><td> 5</td></tr>\n",
       "\t<tr><td>28</td><td>213</td><td>307</td><td>278709 </td><td> 1</td></tr>\n",
       "\t<tr><td>21</td><td>229</td><td>232</td><td>59123  </td><td> 1</td></tr>\n",
       "\t<tr><td>25</td><td>253</td><td>417</td><td>122734 </td><td> 5</td></tr>\n",
       "\t<tr><td>20</td><td>104</td><td>104</td><td>74927  </td><td> 3</td></tr>\n",
       "</tbody>\n",
       "</table>\n"
      ],
      "text/latex": [
       "A tibble: 10 × 5\n",
       "\\begin{tabular}{lllll}\n",
       " Age & Best\\_Rank & Current\\_Rank & Prize.Money & Seasons\\\\\n",
       " <int> & <int> & <int> & <chr> & <dbl>\\\\\n",
       "\\hline\n",
       "\t 26 & 363 & 378 & NA      & NA\\\\\n",
       "\t 18 & 316 & 326 & 59040   & NA\\\\\n",
       "\t 32 &  44 & 178 & 3261567 & 14\\\\\n",
       "\t 21 & 130 & 236 & 374093  &  2\\\\\n",
       "\t 27 &  17 & 183 & 6091971 & 11\\\\\n",
       "\t 22 &  31 &  31 & 1517157 &  5\\\\\n",
       "\t 28 & 213 & 307 & 278709  &  1\\\\\n",
       "\t 21 & 229 & 232 & 59123   &  1\\\\\n",
       "\t 25 & 253 & 417 & 122734  &  5\\\\\n",
       "\t 20 & 104 & 104 & 74927   &  3\\\\\n",
       "\\end{tabular}\n"
      ],
      "text/markdown": [
       "\n",
       "A tibble: 10 × 5\n",
       "\n",
       "| Age &lt;int&gt; | Best_Rank &lt;int&gt; | Current_Rank &lt;int&gt; | Prize.Money &lt;chr&gt; | Seasons &lt;dbl&gt; |\n",
       "|---|---|---|---|---|\n",
       "| 26 | 363 | 378 | NA      | NA |\n",
       "| 18 | 316 | 326 | 59040   | NA |\n",
       "| 32 |  44 | 178 | 3261567 | 14 |\n",
       "| 21 | 130 | 236 | 374093  |  2 |\n",
       "| 27 |  17 | 183 | 6091971 | 11 |\n",
       "| 22 |  31 |  31 | 1517157 |  5 |\n",
       "| 28 | 213 | 307 | 278709  |  1 |\n",
       "| 21 | 229 | 232 | 59123   |  1 |\n",
       "| 25 | 253 | 417 | 122734  |  5 |\n",
       "| 20 | 104 | 104 | 74927   |  3 |\n",
       "\n"
      ],
      "text/plain": [
       "   Age Best_Rank Current_Rank Prize.Money Seasons\n",
       "1  26  363       378          NA          NA     \n",
       "2  18  316       326          59040       NA     \n",
       "3  32   44       178          3261567     14     \n",
       "4  21  130       236          374093       2     \n",
       "5  27   17       183          6091971     11     \n",
       "6  22   31        31          1517157      5     \n",
       "7  28  213       307          278709       1     \n",
       "8  21  229       232          59123        1     \n",
       "9  25  253       417          122734       5     \n",
       "10 20  104       104          74927        3     "
      ]
     },
     "metadata": {},
     "output_type": "display_data"
    }
   ],
   "source": [
    "tennis_data_separated$Prize.Money <- gsub(\"US\", \" \", tennis_data_separated$Prize.Money)\n",
    "\n",
    "\n",
    "tennis_data_separated$Prize.Money <- gsub(\"US\", \"\", tennis_data_separated$Prize.Money)\n",
    "tennis_data_separated$Prize.Money <- gsub(\"all-time leader in earnings\", \"\", tennis_data_separated$Prize.Money)\n",
    "tennis_data_separated$Prize.Money <- gsub(\"11th\", \"\", tennis_data_separated$Prize.Money)\n",
    "tennis_data_separated$Prize.Money <- gsub(\"24th\", \"\", tennis_data_separated$Prize.Money)\n",
    "tennis_data_separated$Prize.Money <- gsub(\"10th\", \"\", tennis_data_separated$Prize.Money)\n",
    "tennis_data_separated$Prize.Money <- sub(\"14th\", \"\", tennis_data_separated$Prize.Money)\n",
    "tennis_data_separated$Prize.Money <- sub(\"27th\", \"\", tennis_data_separated$Prize.Money)\n",
    "tennis_data_separated$Prize.Money <- sub(\"15th\", \"\", tennis_data_separated$Prize.Money)\n",
    "tennis_data_separated$Prize.Money <- sub(\"30th\", \"\", tennis_data_separated$Prize.Money)\n",
    "tennis_data_separated$Prize.Money <- sub(\"All-time leader in earnings\", \"\", tennis_data_separated$Prize.Money)\n",
    "tennis_data_separated$Prize.Money <- sub(\"4th\", \"\", tennis_data_separated$Prize.Money)\n",
    "tennis_data_separated$Prize.Money <- sub(\"28th\", \"\", tennis_data_separated$Prize.Money)\n",
    "tennis_data_separated$Prize.Money <- sub(\"2nd\", \"\", tennis_data_separated$Prize.Money)\n",
    "tennis_data_separated$Prize.Money <- sub(\"6th\", \"\", tennis_data_separated$Prize.Money)\n",
    "tennis_data_separated$Prize.Money <- sub(\"33rd\", \"\", tennis_data_separated$Prize.Money)\n",
    "tennis_data_separated$Prize.Money <- sub(\"26th\", \"\", tennis_data_separated$Prize.Money)\n",
    "tennis_data_separated$Prize.Money <- sub(\"24th\", \"\", tennis_data_separated$Prize.Money)\n",
    "tennis_data_separated$Prize.Money <- sub(\"48th\", \"\", tennis_data_separated$Prize.Money)\n",
    "tennis_data_separated$Prize.Money <- sub(\"41st\", \"\", tennis_data_separated$Prize.Money)\n",
    "tennis_data_separated$Prize.Money <- sub(\"\\\\$\",\"\", tennis_data_separated$Prize.Money)\n",
    "tennis_data_separated$Prize.Money <- sub(\" \", \"\", tennis_data_separated$Prize.Money)\n",
    "tennis_data_separated$Prize.Money <- sub(\"   \", \"\", tennis_data_separated$Prize.Money)\n",
    "tennis_data_separated$Prize.Money <- sub(\"  \", \"\", tennis_data_separated$Prize.Money)\n",
    "tennis_data_separated$Prize.Money <- sub(\" all-time in earnings\", \"\", tennis_data_separated$Prize.Money)\n",
    "tennis_data_separated$Prize.Money <- gsub(\",\", \"\", tennis_data_separated$Prize.Money)\n",
    "\n",
    "tennis_data_renamed <- tennis_data_separated |>\n",
    "    rename(\"Best_Rank\" = \"best_rank\") |>\n",
    "    rename(\"Current_Rank\" = \"current_rank\")\n",
    "head(tennis_data_renamed, n = 10)"
   ]
  },
  {
   "cell_type": "markdown",
   "id": "f61dc7b3-fc2f-4d34-a38e-ea63cdbddb9f",
   "metadata": {},
   "source": [
    "We also converted the Prize Money column from character into double."
   ]
  },
  {
   "cell_type": "code",
   "execution_count": 11,
   "id": "625d98bf-4956-4edc-b465-de4ef2f44f42",
   "metadata": {},
   "outputs": [
    {
     "name": "stderr",
     "output_type": "stream",
     "text": [
      "Warning message in mask$eval_all_mutate(quo):\n",
      "“NAs introduced by coercion”\n"
     ]
    },
    {
     "data": {
      "text/html": [
       "<table class=\"dataframe\">\n",
       "<caption>A tibble: 10 × 5</caption>\n",
       "<thead>\n",
       "\t<tr><th scope=col>Age</th><th scope=col>Best_Rank</th><th scope=col>Current_Rank</th><th scope=col>Prize_Money</th><th scope=col>Seasons</th></tr>\n",
       "\t<tr><th scope=col>&lt;int&gt;</th><th scope=col>&lt;int&gt;</th><th scope=col>&lt;int&gt;</th><th scope=col>&lt;dbl&gt;</th><th scope=col>&lt;dbl&gt;</th></tr>\n",
       "</thead>\n",
       "<tbody>\n",
       "\t<tr><td>32</td><td> 44</td><td>178</td><td> 3261567</td><td>14</td></tr>\n",
       "\t<tr><td>21</td><td>130</td><td>236</td><td>  374093</td><td> 2</td></tr>\n",
       "\t<tr><td>27</td><td> 17</td><td>183</td><td> 6091971</td><td>11</td></tr>\n",
       "\t<tr><td>22</td><td> 31</td><td> 31</td><td> 1517157</td><td> 5</td></tr>\n",
       "\t<tr><td>28</td><td>213</td><td>307</td><td>  278709</td><td> 1</td></tr>\n",
       "\t<tr><td>21</td><td>229</td><td>232</td><td>   59123</td><td> 1</td></tr>\n",
       "\t<tr><td>25</td><td>253</td><td>417</td><td>  122734</td><td> 5</td></tr>\n",
       "\t<tr><td>20</td><td>104</td><td>104</td><td>   74927</td><td> 3</td></tr>\n",
       "\t<tr><td>19</td><td> 17</td><td> 22</td><td> 1893476</td><td> 3</td></tr>\n",
       "\t<tr><td>23</td><td>  4</td><td>  4</td><td>10507693</td><td> 5</td></tr>\n",
       "</tbody>\n",
       "</table>\n"
      ],
      "text/latex": [
       "A tibble: 10 × 5\n",
       "\\begin{tabular}{lllll}\n",
       " Age & Best\\_Rank & Current\\_Rank & Prize\\_Money & Seasons\\\\\n",
       " <int> & <int> & <int> & <dbl> & <dbl>\\\\\n",
       "\\hline\n",
       "\t 32 &  44 & 178 &  3261567 & 14\\\\\n",
       "\t 21 & 130 & 236 &   374093 &  2\\\\\n",
       "\t 27 &  17 & 183 &  6091971 & 11\\\\\n",
       "\t 22 &  31 &  31 &  1517157 &  5\\\\\n",
       "\t 28 & 213 & 307 &   278709 &  1\\\\\n",
       "\t 21 & 229 & 232 &    59123 &  1\\\\\n",
       "\t 25 & 253 & 417 &   122734 &  5\\\\\n",
       "\t 20 & 104 & 104 &    74927 &  3\\\\\n",
       "\t 19 &  17 &  22 &  1893476 &  3\\\\\n",
       "\t 23 &   4 &   4 & 10507693 &  5\\\\\n",
       "\\end{tabular}\n"
      ],
      "text/markdown": [
       "\n",
       "A tibble: 10 × 5\n",
       "\n",
       "| Age &lt;int&gt; | Best_Rank &lt;int&gt; | Current_Rank &lt;int&gt; | Prize_Money &lt;dbl&gt; | Seasons &lt;dbl&gt; |\n",
       "|---|---|---|---|---|\n",
       "| 32 |  44 | 178 |  3261567 | 14 |\n",
       "| 21 | 130 | 236 |   374093 |  2 |\n",
       "| 27 |  17 | 183 |  6091971 | 11 |\n",
       "| 22 |  31 |  31 |  1517157 |  5 |\n",
       "| 28 | 213 | 307 |   278709 |  1 |\n",
       "| 21 | 229 | 232 |    59123 |  1 |\n",
       "| 25 | 253 | 417 |   122734 |  5 |\n",
       "| 20 | 104 | 104 |    74927 |  3 |\n",
       "| 19 |  17 |  22 |  1893476 |  3 |\n",
       "| 23 |   4 |   4 | 10507693 |  5 |\n",
       "\n"
      ],
      "text/plain": [
       "   Age Best_Rank Current_Rank Prize_Money Seasons\n",
       "1  32   44       178           3261567    14     \n",
       "2  21  130       236            374093     2     \n",
       "3  27   17       183           6091971    11     \n",
       "4  22   31        31           1517157     5     \n",
       "5  28  213       307            278709     1     \n",
       "6  21  229       232             59123     1     \n",
       "7  25  253       417            122734     5     \n",
       "8  20  104       104             74927     3     \n",
       "9  19   17        22           1893476     3     \n",
       "10 23    4         4          10507693     5     "
      ]
     },
     "metadata": {},
     "output_type": "display_data"
    }
   ],
   "source": [
    "tennis_data_mutated <- tennis_data_renamed |>\n",
    "    mutate(Prize_Money = as.numeric(Prize.Money)) |>\n",
    "    na.omit() |>\n",
    "    select(Age, Best_Rank, Current_Rank, Prize_Money, Seasons)\n",
    "\n",
    "head(tennis_data_mutated, n = 10)"
   ]
  },
  {
   "cell_type": "markdown",
   "id": "8b6ad813-f1a7-4204-ac32-6ef0a5b22578",
   "metadata": {},
   "source": [
    "We split the data into 75% training and 25% testing datasets with starta set to  our target variable (Current_Rank). We will use the training set to train the model and the testing set to assess its accuracy. "
   ]
  },
  {
   "cell_type": "code",
   "execution_count": 12,
   "id": "b3ffe5a4-03b3-4342-a324-8a51ac8ede23",
   "metadata": {},
   "outputs": [
    {
     "data": {
      "text/html": [
       "<table class=\"dataframe\">\n",
       "<caption>A tibble: 10 × 5</caption>\n",
       "<thead>\n",
       "\t<tr><th scope=col>Age</th><th scope=col>Best_Rank</th><th scope=col>Current_Rank</th><th scope=col>Prize_Money</th><th scope=col>Seasons</th></tr>\n",
       "\t<tr><th scope=col>&lt;int&gt;</th><th scope=col>&lt;int&gt;</th><th scope=col>&lt;int&gt;</th><th scope=col>&lt;dbl&gt;</th><th scope=col>&lt;dbl&gt;</th></tr>\n",
       "</thead>\n",
       "<tbody>\n",
       "\t<tr><td>22</td><td>31</td><td>31</td><td> 1517157</td><td> 5</td></tr>\n",
       "\t<tr><td>19</td><td>17</td><td>22</td><td> 1893476</td><td> 3</td></tr>\n",
       "\t<tr><td>23</td><td> 4</td><td> 4</td><td>10507693</td><td> 5</td></tr>\n",
       "\t<tr><td>20</td><td>47</td><td>54</td><td> 1285541</td><td> 3</td></tr>\n",
       "\t<tr><td>22</td><td>25</td><td>34</td><td> 2722314</td><td> 6</td></tr>\n",
       "\t<tr><td>32</td><td>11</td><td>45</td><td>11912152</td><td>15</td></tr>\n",
       "\t<tr><td>32</td><td> 9</td><td>12</td><td>13470614</td><td>16</td></tr>\n",
       "\t<tr><td>29</td><td>23</td><td>27</td><td> 4850190</td><td>11</td></tr>\n",
       "\t<tr><td>29</td><td>32</td><td>32</td><td> 2301746</td><td>13</td></tr>\n",
       "\t<tr><td>25</td><td>80</td><td>84</td><td>  827193</td><td> 5</td></tr>\n",
       "</tbody>\n",
       "</table>\n"
      ],
      "text/latex": [
       "A tibble: 10 × 5\n",
       "\\begin{tabular}{lllll}\n",
       " Age & Best\\_Rank & Current\\_Rank & Prize\\_Money & Seasons\\\\\n",
       " <int> & <int> & <int> & <dbl> & <dbl>\\\\\n",
       "\\hline\n",
       "\t 22 & 31 & 31 &  1517157 &  5\\\\\n",
       "\t 19 & 17 & 22 &  1893476 &  3\\\\\n",
       "\t 23 &  4 &  4 & 10507693 &  5\\\\\n",
       "\t 20 & 47 & 54 &  1285541 &  3\\\\\n",
       "\t 22 & 25 & 34 &  2722314 &  6\\\\\n",
       "\t 32 & 11 & 45 & 11912152 & 15\\\\\n",
       "\t 32 &  9 & 12 & 13470614 & 16\\\\\n",
       "\t 29 & 23 & 27 &  4850190 & 11\\\\\n",
       "\t 29 & 32 & 32 &  2301746 & 13\\\\\n",
       "\t 25 & 80 & 84 &   827193 &  5\\\\\n",
       "\\end{tabular}\n"
      ],
      "text/markdown": [
       "\n",
       "A tibble: 10 × 5\n",
       "\n",
       "| Age &lt;int&gt; | Best_Rank &lt;int&gt; | Current_Rank &lt;int&gt; | Prize_Money &lt;dbl&gt; | Seasons &lt;dbl&gt; |\n",
       "|---|---|---|---|---|\n",
       "| 22 | 31 | 31 |  1517157 |  5 |\n",
       "| 19 | 17 | 22 |  1893476 |  3 |\n",
       "| 23 |  4 |  4 | 10507693 |  5 |\n",
       "| 20 | 47 | 54 |  1285541 |  3 |\n",
       "| 22 | 25 | 34 |  2722314 |  6 |\n",
       "| 32 | 11 | 45 | 11912152 | 15 |\n",
       "| 32 |  9 | 12 | 13470614 | 16 |\n",
       "| 29 | 23 | 27 |  4850190 | 11 |\n",
       "| 29 | 32 | 32 |  2301746 | 13 |\n",
       "| 25 | 80 | 84 |   827193 |  5 |\n",
       "\n"
      ],
      "text/plain": [
       "   Age Best_Rank Current_Rank Prize_Money Seasons\n",
       "1  22  31        31            1517157     5     \n",
       "2  19  17        22            1893476     3     \n",
       "3  23   4         4           10507693     5     \n",
       "4  20  47        54            1285541     3     \n",
       "5  22  25        34            2722314     6     \n",
       "6  32  11        45           11912152    15     \n",
       "7  32   9        12           13470614    16     \n",
       "8  29  23        27            4850190    11     \n",
       "9  29  32        32            2301746    13     \n",
       "10 25  80        84             827193     5     "
      ]
     },
     "metadata": {},
     "output_type": "display_data"
    },
    {
     "data": {
      "text/html": [
       "<table class=\"dataframe\">\n",
       "<caption>A tibble: 10 × 5</caption>\n",
       "<thead>\n",
       "\t<tr><th scope=col>Age</th><th scope=col>Best_Rank</th><th scope=col>Current_Rank</th><th scope=col>Prize_Money</th><th scope=col>Seasons</th></tr>\n",
       "\t<tr><th scope=col>&lt;int&gt;</th><th scope=col>&lt;int&gt;</th><th scope=col>&lt;int&gt;</th><th scope=col>&lt;dbl&gt;</th><th scope=col>&lt;dbl&gt;</th></tr>\n",
       "</thead>\n",
       "<tbody>\n",
       "\t<tr><td>21</td><td>130</td><td>236</td><td> 374093</td><td> 2</td></tr>\n",
       "\t<tr><td>30</td><td> 98</td><td>105</td><td> 898701</td><td> 7</td></tr>\n",
       "\t<tr><td>20</td><td>187</td><td>331</td><td> 127760</td><td> 2</td></tr>\n",
       "\t<tr><td>34</td><td> 48</td><td>408</td><td>3186839</td><td>14</td></tr>\n",
       "\t<tr><td>27</td><td> 11</td><td> 14</td><td>7217264</td><td> 8</td></tr>\n",
       "\t<tr><td>27</td><td> 26</td><td> 41</td><td>3062847</td><td>11</td></tr>\n",
       "\t<tr><td>28</td><td> 10</td><td> 30</td><td>8892564</td><td> 9</td></tr>\n",
       "\t<tr><td>22</td><td>298</td><td>344</td><td>  71874</td><td> 6</td></tr>\n",
       "\t<tr><td>34</td><td> 62</td><td>461</td><td>1453933</td><td>10</td></tr>\n",
       "\t<tr><td>26</td><td> 72</td><td> 83</td><td>1701922</td><td> 7</td></tr>\n",
       "</tbody>\n",
       "</table>\n"
      ],
      "text/latex": [
       "A tibble: 10 × 5\n",
       "\\begin{tabular}{lllll}\n",
       " Age & Best\\_Rank & Current\\_Rank & Prize\\_Money & Seasons\\\\\n",
       " <int> & <int> & <int> & <dbl> & <dbl>\\\\\n",
       "\\hline\n",
       "\t 21 & 130 & 236 &  374093 &  2\\\\\n",
       "\t 30 &  98 & 105 &  898701 &  7\\\\\n",
       "\t 20 & 187 & 331 &  127760 &  2\\\\\n",
       "\t 34 &  48 & 408 & 3186839 & 14\\\\\n",
       "\t 27 &  11 &  14 & 7217264 &  8\\\\\n",
       "\t 27 &  26 &  41 & 3062847 & 11\\\\\n",
       "\t 28 &  10 &  30 & 8892564 &  9\\\\\n",
       "\t 22 & 298 & 344 &   71874 &  6\\\\\n",
       "\t 34 &  62 & 461 & 1453933 & 10\\\\\n",
       "\t 26 &  72 &  83 & 1701922 &  7\\\\\n",
       "\\end{tabular}\n"
      ],
      "text/markdown": [
       "\n",
       "A tibble: 10 × 5\n",
       "\n",
       "| Age &lt;int&gt; | Best_Rank &lt;int&gt; | Current_Rank &lt;int&gt; | Prize_Money &lt;dbl&gt; | Seasons &lt;dbl&gt; |\n",
       "|---|---|---|---|---|\n",
       "| 21 | 130 | 236 |  374093 |  2 |\n",
       "| 30 |  98 | 105 |  898701 |  7 |\n",
       "| 20 | 187 | 331 |  127760 |  2 |\n",
       "| 34 |  48 | 408 | 3186839 | 14 |\n",
       "| 27 |  11 |  14 | 7217264 |  8 |\n",
       "| 27 |  26 |  41 | 3062847 | 11 |\n",
       "| 28 |  10 |  30 | 8892564 |  9 |\n",
       "| 22 | 298 | 344 |   71874 |  6 |\n",
       "| 34 |  62 | 461 | 1453933 | 10 |\n",
       "| 26 |  72 |  83 | 1701922 |  7 |\n",
       "\n"
      ],
      "text/plain": [
       "   Age Best_Rank Current_Rank Prize_Money Seasons\n",
       "1  21  130       236           374093      2     \n",
       "2  30   98       105           898701      7     \n",
       "3  20  187       331           127760      2     \n",
       "4  34   48       408          3186839     14     \n",
       "5  27   11        14          7217264      8     \n",
       "6  27   26        41          3062847     11     \n",
       "7  28   10        30          8892564      9     \n",
       "8  22  298       344            71874      6     \n",
       "9  34   62       461          1453933     10     \n",
       "10 26   72        83          1701922      7     "
      ]
     },
     "metadata": {},
     "output_type": "display_data"
    }
   ],
   "source": [
    "tennis_data_split <- initial_split(tennis_data_mutated, prop = .75, strata = Current_Rank)\n",
    "tennis_data_train <- training(tennis_data_split)\n",
    "tennis_data_test <- testing(tennis_data_split)\n",
    "head(tennis_data_train, n = 10)\n",
    "head(tennis_data_test, n = 10)"
   ]
  },
  {
   "cell_type": "code",
   "execution_count": 13,
   "id": "66a1c625-3a57-4373-97ef-e4c6ac0ce596",
   "metadata": {},
   "outputs": [
    {
     "name": "stdout",
     "output_type": "stream",
     "text": [
      "[1] \"Training Tennis Data Mean\"\n"
     ]
    },
    {
     "data": {
      "text/html": [
       "<table class=\"dataframe\">\n",
       "<caption>A tibble: 1 × 5</caption>\n",
       "<thead>\n",
       "\t<tr><th scope=col>Age</th><th scope=col>Best_Rank</th><th scope=col>Current_Rank</th><th scope=col>Prize_Money</th><th scope=col>Seasons</th></tr>\n",
       "\t<tr><th scope=col>&lt;dbl&gt;</th><th scope=col>&lt;dbl&gt;</th><th scope=col>&lt;dbl&gt;</th><th scope=col>&lt;dbl&gt;</th><th scope=col>&lt;dbl&gt;</th></tr>\n",
       "</thead>\n",
       "<tbody>\n",
       "\t<tr><td>26.70221</td><td>128.8971</td><td>206.625</td><td>4493456</td><td>6.422794</td></tr>\n",
       "</tbody>\n",
       "</table>\n"
      ],
      "text/latex": [
       "A tibble: 1 × 5\n",
       "\\begin{tabular}{lllll}\n",
       " Age & Best\\_Rank & Current\\_Rank & Prize\\_Money & Seasons\\\\\n",
       " <dbl> & <dbl> & <dbl> & <dbl> & <dbl>\\\\\n",
       "\\hline\n",
       "\t 26.70221 & 128.8971 & 206.625 & 4493456 & 6.422794\\\\\n",
       "\\end{tabular}\n"
      ],
      "text/markdown": [
       "\n",
       "A tibble: 1 × 5\n",
       "\n",
       "| Age &lt;dbl&gt; | Best_Rank &lt;dbl&gt; | Current_Rank &lt;dbl&gt; | Prize_Money &lt;dbl&gt; | Seasons &lt;dbl&gt; |\n",
       "|---|---|---|---|---|\n",
       "| 26.70221 | 128.8971 | 206.625 | 4493456 | 6.422794 |\n",
       "\n"
      ],
      "text/plain": [
       "  Age      Best_Rank Current_Rank Prize_Money Seasons \n",
       "1 26.70221 128.8971  206.625      4493456     6.422794"
      ]
     },
     "metadata": {},
     "output_type": "display_data"
    },
    {
     "name": "stdout",
     "output_type": "stream",
     "text": [
      "[1] \"Training Tennis Data Median\"\n"
     ]
    },
    {
     "data": {
      "text/html": [
       "<table class=\"dataframe\">\n",
       "<caption>A tibble: 1 × 5</caption>\n",
       "<thead>\n",
       "\t<tr><th scope=col>Age</th><th scope=col>Best_Rank</th><th scope=col>Current_Rank</th><th scope=col>Prize_Money</th><th scope=col>Seasons</th></tr>\n",
       "\t<tr><th scope=col>&lt;dbl&gt;</th><th scope=col>&lt;dbl&gt;</th><th scope=col>&lt;dbl&gt;</th><th scope=col>&lt;dbl&gt;</th><th scope=col>&lt;dbl&gt;</th></tr>\n",
       "</thead>\n",
       "<tbody>\n",
       "\t<tr><td>26.5</td><td>99</td><td>193.5</td><td>648769.5</td><td>5</td></tr>\n",
       "</tbody>\n",
       "</table>\n"
      ],
      "text/latex": [
       "A tibble: 1 × 5\n",
       "\\begin{tabular}{lllll}\n",
       " Age & Best\\_Rank & Current\\_Rank & Prize\\_Money & Seasons\\\\\n",
       " <dbl> & <dbl> & <dbl> & <dbl> & <dbl>\\\\\n",
       "\\hline\n",
       "\t 26.5 & 99 & 193.5 & 648769.5 & 5\\\\\n",
       "\\end{tabular}\n"
      ],
      "text/markdown": [
       "\n",
       "A tibble: 1 × 5\n",
       "\n",
       "| Age &lt;dbl&gt; | Best_Rank &lt;dbl&gt; | Current_Rank &lt;dbl&gt; | Prize_Money &lt;dbl&gt; | Seasons &lt;dbl&gt; |\n",
       "|---|---|---|---|---|\n",
       "| 26.5 | 99 | 193.5 | 648769.5 | 5 |\n",
       "\n"
      ],
      "text/plain": [
       "  Age  Best_Rank Current_Rank Prize_Money Seasons\n",
       "1 26.5 99        193.5        648769.5    5      "
      ]
     },
     "metadata": {},
     "output_type": "display_data"
    }
   ],
   "source": [
    "tennis_data_train_mean <- tennis_data_train |> map_df(mean)\n",
    "tennis_data_train_median <- tennis_data_train |> map_df(median)\n",
    "\n",
    "print(\"Training Tennis Data Mean\")\n",
    "tennis_data_train_mean\n",
    "print(\"Training Tennis Data Median\")\n",
    "tennis_data_train_median"
   ]
  },
  {
   "cell_type": "markdown",
   "id": "989685ef-bc21-4b8e-b993-c7f828b3b29a",
   "metadata": {},
   "source": [
    "The tables above show that the data needs to be standardized since our predictors have very different ranges and we do not want the predictors with larger sclaes (such as Prize_Money) to have a greater effect on our model than the ones with smaller scales (such as Seasons). We can also observe that Prize_Money has a much larger mean value compared to is median value which could point to potential outliers that are boosting the avarage and skewing the distribution which again suggests we should standardize our data.\n",
    "\n",
    "// Need to add visuals "
   ]
  },
  {
   "cell_type": "markdown",
   "id": "5ecc2235-99b7-4bf1-a598-a71dbe3f7bc2",
   "metadata": {},
   "source": [
    "### Methods"
   ]
  },
  {
   "cell_type": "markdown",
   "id": "42bb9555-6532-453e-b5a7-4f4d0b8568c5",
   "metadata": {},
   "source": [
    "#### Recipe:"
   ]
  },
  {
   "cell_type": "markdown",
   "id": "073898dd-c894-4792-bf3c-9ef4777c7d3a",
   "metadata": {},
   "source": [
    "Since we need to standardize the data before any further analysis, we will begin by making a recipe that contains all predictor variables (tennis_data_recipe) as well as four other recipes for each of the predictors individually. "
   ]
  },
  {
   "cell_type": "code",
   "execution_count": 15,
   "id": "3560f2e3-79c4-475f-8561-b6d7da38cc6b",
   "metadata": {},
   "outputs": [],
   "source": [
    "tennis_data_recipe <- recipe(Best_Rank ~ Age + Current_Rank + Prize_Money + Seasons, data = tennis_data_train)|>\n",
    "                        step_scale(all_predictors()) |>\n",
    "                        step_center(all_predictors())\n",
    "\n",
    "tennis_data_recipe_age <- recipe(Best_Rank ~ Age, data = tennis_data_train)|>\n",
    "                        step_scale(all_predictors()) |>\n",
    "                        step_center(all_predictors())\n",
    "\n",
    "tennis_data_recipe_current_rank <- recipe(Best_Rank ~ Current_Rank, data = tennis_data_train)|>\n",
    "                        step_scale(all_predictors()) |>\n",
    "                        step_center(all_predictors())\n",
    "\n",
    "tennis_data_recipe_prize_money <- recipe(Best_Rank ~ Prize_Money + Seasons, data = tennis_data_train)|>\n",
    "                        step_scale(all_predictors()) |>\n",
    "                        step_center(all_predictors())\n",
    "\n",
    "tennis_data_recipe_Seasons <- recipe(Best_Rank ~ Seasons, data = tennis_data_train)|>\n",
    "                        step_scale(all_predictors()) |>\n",
    "                        step_center(all_predictors())"
   ]
  },
  {
   "cell_type": "markdown",
   "id": "bbbd67df-921b-4a8b-ac00-153cef0eb69d",
   "metadata": {},
   "source": [
    "#### model specification:"
   ]
  },
  {
   "cell_type": "code",
   "execution_count": null,
   "id": "a44e446e-413a-4de4-ab3a-b0985266d71f",
   "metadata": {},
   "outputs": [],
   "source": []
  },
  {
   "cell_type": "markdown",
   "id": "2a60ec9a-80a5-4f87-92ae-114c18928630",
   "metadata": {},
   "source": [
    "#### Workflow:"
   ]
  },
  {
   "cell_type": "markdown",
   "id": "59fca7a5-609c-4e46-9999-116b6f71101f",
   "metadata": {},
   "source": [
    "#### Cross Validation:"
   ]
  },
  {
   "cell_type": "markdown",
   "id": "2c2349a9-5681-4043-869c-494de57bd045",
   "metadata": {},
   "source": [
    "### Results"
   ]
  },
  {
   "cell_type": "markdown",
   "id": "22bf70dc-03db-4849-bb63-18dc7cdf58f7",
   "metadata": {},
   "source": [
    "### Discussion"
   ]
  },
  {
   "cell_type": "markdown",
   "id": "f051bfd3-3ad2-48bc-a006-77f9c2eeb73d",
   "metadata": {},
   "source": [
    "### References"
   ]
  },
  {
   "cell_type": "code",
   "execution_count": null,
   "id": "7dc4240e-87c6-4432-9d37-6db3f81f3d2a",
   "metadata": {},
   "outputs": [],
   "source": []
  },
  {
   "cell_type": "code",
   "execution_count": null,
   "id": "56b0366e-ccc0-474f-af12-175604a620cc",
   "metadata": {},
   "outputs": [],
   "source": []
  }
 ],
 "metadata": {
  "kernelspec": {
   "display_name": "R",
   "language": "R",
   "name": "ir"
  },
  "language_info": {
   "codemirror_mode": "r",
   "file_extension": ".r",
   "mimetype": "text/x-r-source",
   "name": "R",
   "pygments_lexer": "r",
   "version": "4.1.3"
  }
 },
 "nbformat": 4,
 "nbformat_minor": 5
}
