{
 "cells": [
  {
   "cell_type": "markdown",
   "id": "57f2d5f4-e7ec-4d16-85f3-f49062d42868",
   "metadata": {},
   "source": [
    "# Project Proposal Group 33\n"
   ]
  },
  {
   "cell_type": "markdown",
   "id": "5458dc18-3a85-4106-9413-770048b8cdf5",
   "metadata": {},
   "source": [
    "### Predicting a Tennis Player's Best Rank Based on Their Age, Seasons Played, Current Rank, and Prize Money"
   ]
  },
  {
   "cell_type": "markdown",
   "id": "03290dee-d75a-464a-9c50-f70885257b59",
   "metadata": {},
   "source": [
    "### Introduction\n"
   ]
  },
  {
   "cell_type": "markdown",
   "id": "d8e1dbd4-1ce0-48cd-93b3-ba25d9ab3f05",
   "metadata": {},
   "source": [
    "Tennis is a popular sport with a history of competitive tournaments and rankings. Tennis player rankings are essential to evaluate their performance but predicting a player's best rank can be difficult. This project aims to use K-nearest neighbor regression to predict a player's best rank based on age, seasons played, current rank, and prize money. The dataset will be analyzed using five-fold cross-validation, and visualization techniques such as scatter plots will provide insight into factors that influence ranking."
   ]
  },
  {
   "cell_type": "code",
   "execution_count": null,
   "id": "a1f2a6d4-65fc-44d9-84ca-2cb13f258f83",
   "metadata": {},
   "outputs": [],
   "source": []
  }
 ],
 "metadata": {
  "kernelspec": {
   "display_name": "R",
   "language": "R",
   "name": "ir"
  },
  "language_info": {
   "codemirror_mode": "r",
   "file_extension": ".r",
   "mimetype": "text/x-r-source",
   "name": "R",
   "pygments_lexer": "r",
   "version": "4.1.3"
  }
 },
 "nbformat": 4,
 "nbformat_minor": 5
}
